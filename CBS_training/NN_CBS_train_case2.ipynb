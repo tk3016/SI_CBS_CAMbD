{
 "cells": [
  {
   "cell_type": "markdown",
   "id": "1c722b32",
   "metadata": {},
   "source": [
    "Importing relevant libraries"
   ]
  },
  {
   "cell_type": "code",
   "execution_count": 1,
   "id": "d9ff29e8",
   "metadata": {},
   "outputs": [],
   "source": [
    "import numpy as np\n",
    "import pandas as pd\n",
    "import math\n",
    "import matplotlib as mpl\n",
    "import matplotlib.pyplot as plt\n",
    "import os\n",
    "import tempfile"
   ]
  },
  {
   "cell_type": "code",
   "execution_count": 2,
   "id": "21f22db3",
   "metadata": {},
   "outputs": [],
   "source": [
    "np.set_printoptions(precision=3, suppress=True)"
   ]
  },
  {
   "cell_type": "code",
   "execution_count": 3,
   "id": "7266dfac",
   "metadata": {},
   "outputs": [],
   "source": [
    "import tensorflow as tf\n",
    "from tensorflow import keras\n",
    "from tensorflow.keras import layers\n",
    "from tensorflow.keras.layers import *\n",
    "from tensorflow.keras.models import *\n",
    "from tensorflow.keras import backend as K"
   ]
  },
  {
   "cell_type": "code",
   "execution_count": 4,
   "id": "7d3db35d",
   "metadata": {},
   "outputs": [
    {
     "name": "stdout",
     "output_type": "stream",
     "text": [
      "2.12.0\n"
     ]
    }
   ],
   "source": [
    "print(tf.version.VERSION)"
   ]
  },
  {
   "cell_type": "markdown",
   "id": "ef64ace1",
   "metadata": {},
   "source": [
    "Loading dataset generated from Tangent Plane Distance calculations done in PhasePY"
   ]
  },
  {
   "cell_type": "code",
   "execution_count": 5,
   "id": "3586d009",
   "metadata": {},
   "outputs": [],
   "source": [
    "filename = 'Case2_tpd_calc_slle.csv'"
   ]
  },
  {
   "cell_type": "code",
   "execution_count": 6,
   "id": "cb5d0c82",
   "metadata": {},
   "outputs": [],
   "source": [
    "raw_dataset = pd.read_csv(filename, header=0)"
   ]
  },
  {
   "cell_type": "code",
   "execution_count": 7,
   "id": "eb63080f",
   "metadata": {},
   "outputs": [],
   "source": [
    "dataset = raw_dataset.copy()\n",
    "dataset = dataset.dropna()"
   ]
  },
  {
   "cell_type": "code",
   "execution_count": 8,
   "id": "45a20a96",
   "metadata": {},
   "outputs": [],
   "source": [
    "ds1 = dataset.drop(columns=['Unnamed: 0','Solvent 1','Solvent 2'])"
   ]
  },
  {
   "cell_type": "markdown",
   "id": "948c63c6",
   "metadata": {},
   "source": [
    "Partitioning the dataset into training, validation and testing by randomly splitting it. The seed used for randomly splitting the dataset is fixed!"
   ]
  },
  {
   "cell_type": "code",
   "execution_count": 9,
   "id": "87bf7df3",
   "metadata": {},
   "outputs": [],
   "source": [
    "def get_dataset_partitions_tf(df, train_split=0.7, val_split=0.15, test_split=0.15):\n",
    "    assert (train_split + test_split + val_split) == 1\n",
    "    assert val_split == test_split\n",
    "    \n",
    "    df_sample = df.sample(frac=1, random_state=12)\n",
    "    \n",
    "    indices_or_sections = [int(train_split * len(df)), int((1 - val_split - test_split) * len(df))]\n",
    "    train_ds, val_ds, test_ds = np.split(df_sample, indices_or_sections)\n",
    "    \n",
    "    return train_ds, val_ds, test_ds"
   ]
  },
  {
   "cell_type": "code",
   "execution_count": 10,
   "id": "974c6ce7",
   "metadata": {},
   "outputs": [],
   "source": [
    "train, val, test = np.split(ds1.sample(frac=1, random_state=12), [int(0.7*len(ds1)), int(0.85*len(ds1))])"
   ]
  },
  {
   "cell_type": "markdown",
   "id": "be48830d",
   "metadata": {},
   "source": [
    "Quick inspection of the data"
   ]
  },
  {
   "cell_type": "code",
   "execution_count": 11,
   "id": "5483b6f8",
   "metadata": {},
   "outputs": [
    {
     "name": "stdout",
     "output_type": "stream",
     "text": [
      "160282 training examples\n",
      "34346 validation examples\n",
      "34347 testing examples\n"
     ]
    }
   ],
   "source": [
    "print(len(train), 'training examples')\n",
    "print(len(val), 'validation examples')\n",
    "print(len(test), 'testing examples')"
   ]
  },
  {
   "cell_type": "code",
   "execution_count": 12,
   "id": "d4a1fce0",
   "metadata": {},
   "outputs": [
    {
     "data": {
      "text/html": [
       "<div>\n",
       "<style scoped>\n",
       "    .dataframe tbody tr th:only-of-type {\n",
       "        vertical-align: middle;\n",
       "    }\n",
       "\n",
       "    .dataframe tbody tr th {\n",
       "        vertical-align: top;\n",
       "    }\n",
       "\n",
       "    .dataframe thead th {\n",
       "        text-align: right;\n",
       "    }\n",
       "</style>\n",
       "<table border=\"1\" class=\"dataframe\">\n",
       "  <thead>\n",
       "    <tr style=\"text-align: right;\">\n",
       "      <th></th>\n",
       "      <th>count</th>\n",
       "      <th>mean</th>\n",
       "      <th>std</th>\n",
       "      <th>min</th>\n",
       "      <th>25%</th>\n",
       "      <th>50%</th>\n",
       "      <th>75%</th>\n",
       "      <th>max</th>\n",
       "    </tr>\n",
       "  </thead>\n",
       "  <tbody>\n",
       "    <tr>\n",
       "      <th>q1</th>\n",
       "      <td>160282.0</td>\n",
       "      <td>3.129976</td>\n",
       "      <td>0.935857</td>\n",
       "      <td>1.400000</td>\n",
       "      <td>2.588000</td>\n",
       "      <td>3.222000</td>\n",
       "      <td>3.668000</td>\n",
       "      <td>4.396000</td>\n",
       "    </tr>\n",
       "    <tr>\n",
       "      <th>q2</th>\n",
       "      <td>160282.0</td>\n",
       "      <td>3.131006</td>\n",
       "      <td>0.936369</td>\n",
       "      <td>1.400000</td>\n",
       "      <td>2.588000</td>\n",
       "      <td>3.316000</td>\n",
       "      <td>4.208000</td>\n",
       "      <td>4.396000</td>\n",
       "    </tr>\n",
       "    <tr>\n",
       "      <th>r1</th>\n",
       "      <td>160282.0</td>\n",
       "      <td>3.355049</td>\n",
       "      <td>1.252947</td>\n",
       "      <td>0.920000</td>\n",
       "      <td>2.576000</td>\n",
       "      <td>3.537500</td>\n",
       "      <td>3.924000</td>\n",
       "      <td>5.174000</td>\n",
       "    </tr>\n",
       "    <tr>\n",
       "      <th>r2</th>\n",
       "      <td>160282.0</td>\n",
       "      <td>3.356727</td>\n",
       "      <td>1.253897</td>\n",
       "      <td>0.920000</td>\n",
       "      <td>2.576000</td>\n",
       "      <td>3.825000</td>\n",
       "      <td>4.599000</td>\n",
       "      <td>5.174000</td>\n",
       "    </tr>\n",
       "    <tr>\n",
       "      <th>x1</th>\n",
       "      <td>160282.0</td>\n",
       "      <td>0.333774</td>\n",
       "      <td>0.179597</td>\n",
       "      <td>0.000096</td>\n",
       "      <td>0.201383</td>\n",
       "      <td>0.332828</td>\n",
       "      <td>0.449696</td>\n",
       "      <td>0.965373</td>\n",
       "    </tr>\n",
       "    <tr>\n",
       "      <th>x2</th>\n",
       "      <td>160282.0</td>\n",
       "      <td>0.333582</td>\n",
       "      <td>0.179484</td>\n",
       "      <td>0.000061</td>\n",
       "      <td>0.201443</td>\n",
       "      <td>0.334557</td>\n",
       "      <td>0.446737</td>\n",
       "      <td>0.970495</td>\n",
       "    </tr>\n",
       "    <tr>\n",
       "      <th>T</th>\n",
       "      <td>160282.0</td>\n",
       "      <td>305.655821</td>\n",
       "      <td>7.212558</td>\n",
       "      <td>293.155158</td>\n",
       "      <td>299.409325</td>\n",
       "      <td>305.651949</td>\n",
       "      <td>311.900392</td>\n",
       "      <td>318.144017</td>\n",
       "    </tr>\n",
       "    <tr>\n",
       "      <th>ismisc</th>\n",
       "      <td>160282.0</td>\n",
       "      <td>0.829588</td>\n",
       "      <td>0.375996</td>\n",
       "      <td>0.000000</td>\n",
       "      <td>1.000000</td>\n",
       "      <td>1.000000</td>\n",
       "      <td>1.000000</td>\n",
       "      <td>1.000000</td>\n",
       "    </tr>\n",
       "  </tbody>\n",
       "</table>\n",
       "</div>"
      ],
      "text/plain": [
       "           count        mean       std         min         25%         50%  \\\n",
       "q1      160282.0    3.129976  0.935857    1.400000    2.588000    3.222000   \n",
       "q2      160282.0    3.131006  0.936369    1.400000    2.588000    3.316000   \n",
       "r1      160282.0    3.355049  1.252947    0.920000    2.576000    3.537500   \n",
       "r2      160282.0    3.356727  1.253897    0.920000    2.576000    3.825000   \n",
       "x1      160282.0    0.333774  0.179597    0.000096    0.201383    0.332828   \n",
       "x2      160282.0    0.333582  0.179484    0.000061    0.201443    0.334557   \n",
       "T       160282.0  305.655821  7.212558  293.155158  299.409325  305.651949   \n",
       "ismisc  160282.0    0.829588  0.375996    0.000000    1.000000    1.000000   \n",
       "\n",
       "               75%         max  \n",
       "q1        3.668000    4.396000  \n",
       "q2        4.208000    4.396000  \n",
       "r1        3.924000    5.174000  \n",
       "r2        4.599000    5.174000  \n",
       "x1        0.449696    0.965373  \n",
       "x2        0.446737    0.970495  \n",
       "T       311.900392  318.144017  \n",
       "ismisc    1.000000    1.000000  "
      ]
     },
     "execution_count": 12,
     "metadata": {},
     "output_type": "execute_result"
    }
   ],
   "source": [
    "train.describe().transpose()"
   ]
  },
  {
   "cell_type": "markdown",
   "id": "b4483ec9",
   "metadata": {},
   "source": [
    "Segregating the features (inputs) and labels (outputs) from the dataset"
   ]
  },
  {
   "cell_type": "code",
   "execution_count": 13,
   "id": "5e5a85f2",
   "metadata": {},
   "outputs": [],
   "source": [
    "train_features = train.copy()\n",
    "test_features = test.copy()\n",
    "val_features = val.copy()\n",
    "train_lab = train_features.pop('ismisc')\n",
    "test_lab = test_features.pop('ismisc')\n",
    "val_lab = val_features.pop('ismisc')"
   ]
  },
  {
   "cell_type": "markdown",
   "id": "32346175",
   "metadata": {},
   "source": [
    "Normalising the training data to make it more amenable for training!"
   ]
  },
  {
   "cell_type": "code",
   "execution_count": 14,
   "id": "ba53f8c5",
   "metadata": {},
   "outputs": [
    {
     "name": "stdout",
     "output_type": "stream",
     "text": [
      "[[  3.13    3.131   3.355   3.357   0.334   0.334 305.655]]\n"
     ]
    }
   ],
   "source": [
    "normalizer = tf.keras.layers.Normalization(axis=-1)\n",
    "normalizer.adapt(np.array(train_features))\n",
    "print(normalizer.mean.numpy())"
   ]
  },
  {
   "cell_type": "markdown",
   "id": "73258c99",
   "metadata": {},
   "source": [
    "Segregating the positive and the negative labels"
   ]
  },
  {
   "cell_type": "code",
   "execution_count": 15,
   "id": "63077e65",
   "metadata": {},
   "outputs": [
    {
     "name": "stdout",
     "output_type": "stream",
     "text": [
      "Examples:\n",
      "    Total: 160282\n",
      "    Positive: 132968 (82.96% of total)\n",
      "    Negative: 27314 (17.04% of total)\n",
      "\n",
      "[1.583]\n"
     ]
    }
   ],
   "source": [
    "bool_train_labels = train_lab != 0\n",
    "neg, pos = np.bincount(train_lab)\n",
    "train_full = neg + pos\n",
    "print('Examples:\\n    Total: {}\\n    Positive: {} ({:.2f}% of total)\\n    Negative: {} ({:.2f}% of total)\\n'.format(\n",
    "    train_full, pos, 100 * pos / train_full, neg, 100 * neg / train_full))\n",
    "initial_bias = np.log([pos/neg])\n",
    "print(initial_bias)"
   ]
  },
  {
   "cell_type": "code",
   "execution_count": 16,
   "id": "e89273d8",
   "metadata": {},
   "outputs": [],
   "source": [
    "BATCH_SIZE = 800\n",
    "STEPS_PER_EPOCH = len(train)/BATCH_SIZE\n",
    "lr_schedule = tf.keras.optimizers.schedules.InverseTimeDecay(\n",
    "    0.025,\n",
    "    decay_steps=STEPS_PER_EPOCH*10,\n",
    "    decay_rate=1,\n",
    "    staircase=False\n",
    ")"
   ]
  },
  {
   "cell_type": "code",
   "execution_count": 17,
   "id": "07f5a8fc",
   "metadata": {},
   "outputs": [],
   "source": [
    "def build_and_compile_model_single_layer(norm,num_neurons,activation='tanh',output_bias=None,seed_value=None):\n",
    "    if seed_value is not None:\n",
    "        #random.seed(seed_value)\n",
    "        #np.random.seed(seed_value)\n",
    "        tf.random.set_seed(seed_value)\n",
    "        if activation =='relu':\n",
    "            kernel_initializer = tf.keras.initializers.he_normal()\n",
    "        else:\n",
    "            kernel_initializer = tf.keras.initializers.glorot_uniform()\n",
    "    if activation =='relu':\n",
    "        kernel_initializer = 'he_normal'\n",
    "    else:\n",
    "        kernel_initializer = 'glorot_uniform'\n",
    "    if output_bias is not None:\n",
    "        output_bias = tf.keras.initializers.Constant(output_bias)\n",
    "    #kernel_regularizer = tf.keras.regularizers.l2(l=0.0001)\n",
    "    model = keras.Sequential([\n",
    "        norm,\n",
    "        layers.Dense(num_neurons, activation=activation, \n",
    "                     kernel_initializer=kernel_initializer, kernel_regularizer=None),\n",
    "        layers.Dense(num_neurons-3, activation=activation, \n",
    "                     kernel_initializer=kernel_initializer, kernel_regularizer=None),\n",
    "        layers.Dense(num_neurons-6, activation=activation, \n",
    "                     kernel_initializer=kernel_initializer, kernel_regularizer=None),\n",
    "        layers.Dense(1, activation='sigmoid', bias_initializer=output_bias)\n",
    "    ])\n",
    "    \n",
    "    model.compile(loss = tf.keras.losses.BinaryCrossentropy(),\n",
    "                  optimizer=tf.keras.optimizers.Adam(lr_schedule),\n",
    "                 metrics = [\n",
    "        tf.keras.metrics.BinaryCrossentropy(name='binary_crossentropy'),\n",
    "        tf.keras.metrics.BinaryAccuracy(name='accuracy'),\n",
    "        tf.keras.metrics.TruePositives(name='tp'),\n",
    "        tf.keras.metrics.FalsePositives(name='fp'),\n",
    "        tf.keras.metrics.TrueNegatives(name='tn'),\n",
    "        tf.keras.metrics.FalseNegatives(name='fn'),\n",
    "        #tf.keras.metrics.Precision(name='precision'),\n",
    "        #tf.keras.metrics.Recall(name='recall'),\n",
    "        #tf.keras.metrics.AUC(name='AUC'),\n",
    "        #tf.keras.metrics.AUC(name='prc', curve='PR'),\n",
    "            ]\n",
    "                 )\n",
    "    return model"
   ]
  },
  {
   "cell_type": "code",
   "execution_count": 18,
   "id": "a542f509",
   "metadata": {},
   "outputs": [],
   "source": [
    "def neurons_upper_bound(num_train, num_inputs, num_outputs):\n",
    "    num_train_eq = num_train * num_outputs\n",
    "    num_neurons_ub = -1 + math.ceil((num_train_eq - num_outputs)/(num_inputs + num_outputs + 1))\n",
    "    num_neurons_ub = math.floor(num_neurons_ub/3) #heuristic\n",
    "    return num_neurons_ub"
   ]
  },
  {
   "cell_type": "code",
   "execution_count": 19,
   "id": "b94cfe21",
   "metadata": {},
   "outputs": [],
   "source": [
    "def get_mcc(tp,tn,fp,fn):\n",
    "    prod1 = tp*tn\n",
    "    prod2 = fp*fn\n",
    "    sum1 = tp+fp\n",
    "    sum2 = tp+fn\n",
    "    sum3 = tn+fp\n",
    "    sum4 = tn+fn\n",
    "    if sum1 <= 0 or sum2 <= 0 or sum3<=0 or sum4<=0:\n",
    "        return (prod1 - prod2)\n",
    "    else:\n",
    "        return (prod1 - prod2)/math.sqrt(sum1*sum2*sum3*sum4)"
   ]
  },
  {
   "cell_type": "code",
   "execution_count": 20,
   "id": "3ed3990a",
   "metadata": {},
   "outputs": [
    {
     "name": "stdout",
     "output_type": "stream",
     "text": [
      "7\n",
      "7\n"
     ]
    }
   ],
   "source": [
    "num_outputs = 1\n",
    "num_inputs = len(train_features.columns)\n",
    "num_train = len(train_features)\n",
    "print(len(train_features.columns))\n",
    "print(num_inputs)"
   ]
  },
  {
   "cell_type": "code",
   "execution_count": 21,
   "id": "e23b03a1",
   "metadata": {},
   "outputs": [],
   "source": [
    "def iterative_training(norm, num_train, num_inputs,\n",
    "                       num_outputs, activation, num_epochs, \n",
    "                       output_bias, common_seed, \n",
    "                       train_features, train_labels,\n",
    "                       val_features, val_labels,\n",
    "                       test_features, test_labels, tolerance):\n",
    "    num_neurons_ub = neurons_upper_bound(num_train, num_inputs, num_outputs)\n",
    "    #models = {}\n",
    "    #histories = {}\n",
    "    mcc = {}\n",
    "    max_value = 0\n",
    "    for i in range(7, num_neurons_ub):\n",
    "        for j in range(0,5):\n",
    "            seed_value = common_seed + j\n",
    "            num_param = (((num_inputs+1)*i) + ((i+1)*(i - 3)) + ((i - 2)*(i - 6)) + ((i - 5)))\n",
    "            if num_param >= 600:\n",
    "                return best_model, best_history, max_value\n",
    "            print(\"Number of parameters: \",num_param,\" Trial \", j+1)\n",
    "            model = build_and_compile_model_single_layer(norm,i,activation,output_bias,seed_value)\n",
    "            history = model.fit(\n",
    "            train_features,\n",
    "            train_labels,\n",
    "            batch_size = BATCH_SIZE,\n",
    "            epochs = num_epochs,\n",
    "            verbose = 0,\n",
    "            validation_data = (val_features, val_lab)\n",
    "            )    \n",
    "            #models[i,j] = model\n",
    "            #histories[i,j] = history\n",
    "            mcc[i,j] = get_mcc(history.history['val_tp'][num_epochs-1], history.history['val_tn'][num_epochs-1], history.history['val_fp'][num_epochs-1], history.history['val_fn'][num_epochs-1])\n",
    "            print(mcc[i,j])\n",
    "            if (mcc[i,j] > max_value):\n",
    "                max_value = mcc[i,j]\n",
    "                best_model = model\n",
    "                best_history = history    \n",
    "        #max_value = max(mcc.values())\n",
    "        print(max_value)\n",
    "        if max_value >= tolerance:\n",
    "            #max_key = max(mcc, key=mcc.get)\n",
    "            #print(max_key)\n",
    "            return best_model, best_history, max_value\n",
    "            break\n",
    "        else:\n",
    "            continue"
   ]
  },
  {
   "cell_type": "code",
   "execution_count": 22,
   "id": "8d28aed9",
   "metadata": {
    "scrolled": true
   },
   "outputs": [
    {
     "name": "stdout",
     "output_type": "stream",
     "text": [
      "Number of parameters:  95  Trial  1\n",
      "0.9706431728138123\n",
      "Number of parameters:  95  Trial  2\n",
      "0.965316326444166\n",
      "Number of parameters:  95  Trial  3\n",
      "0.9670116437780882\n",
      "Number of parameters:  95  Trial  4\n",
      "0.9660717807611784\n",
      "Number of parameters:  95  Trial  5\n",
      "0.9692892710905164\n",
      "0.9706431728138123\n",
      "Number of parameters:  124  Trial  1\n",
      "0.9712274130753031\n",
      "Number of parameters:  124  Trial  2\n",
      "0.9742987549141549\n",
      "Number of parameters:  124  Trial  3\n",
      "0.9783422932633976\n",
      "Number of parameters:  124  Trial  4\n",
      "0.9730824559966821\n",
      "Number of parameters:  124  Trial  5\n",
      "0.9755983018216626\n",
      "0.9783422932633976\n",
      "Number of parameters:  157  Trial  1\n",
      "0.9766717617753811\n",
      "Number of parameters:  157  Trial  2\n",
      "0.9741371086398263\n",
      "Number of parameters:  157  Trial  3\n",
      "0.9791544033075793\n",
      "Number of parameters:  157  Trial  4\n",
      "0.9736688710421942\n",
      "Number of parameters:  157  Trial  5\n",
      "0.977776222060892\n",
      "0.9791544033075793\n",
      "Number of parameters:  194  Trial  1\n",
      "0.9816274084649032\n",
      "Number of parameters:  194  Trial  2\n",
      "0.9820995540733214\n",
      "Number of parameters:  194  Trial  3\n",
      "0.9812081821297807\n",
      "Number of parameters:  194  Trial  4\n",
      "0.9773437656580317\n",
      "Number of parameters:  194  Trial  5\n",
      "0.9819954691035024\n",
      "0.9820995540733214\n",
      "Number of parameters:  235  Trial  1\n",
      "0.980017681747955\n",
      "Number of parameters:  235  Trial  2\n",
      "0.9823873975640138\n",
      "Number of parameters:  235  Trial  3\n",
      "0.9825394270372748\n",
      "Number of parameters:  235  Trial  4\n",
      "0.9867514692134134\n",
      "Number of parameters:  235  Trial  5\n",
      "0.983724739403418\n",
      "0.9867514692134134\n",
      "Number of parameters:  280  Trial  1\n",
      "0.9862515905402586\n",
      "Number of parameters:  280  Trial  2\n",
      "0.9829007709641323\n",
      "Number of parameters:  280  Trial  3\n",
      "0.9870883340420731\n",
      "Number of parameters:  280  Trial  4\n",
      "0.9838195217031399\n",
      "Number of parameters:  280  Trial  5\n",
      "0.9860397737416892\n",
      "0.9870883340420731\n",
      "Number of parameters:  329  Trial  1\n",
      "0.9866734289984704\n",
      "Number of parameters:  329  Trial  2\n",
      "0.9864546335125742\n",
      "Number of parameters:  329  Trial  3\n",
      "0.9863670130539242\n",
      "Number of parameters:  329  Trial  4\n",
      "0.986359873098517\n",
      "Number of parameters:  329  Trial  5\n",
      "0.9876766848230728\n",
      "0.9876766848230728\n",
      "Number of parameters:  382  Trial  1\n",
      "0.9881893085691412\n",
      "Number of parameters:  382  Trial  2\n",
      "0.985186279566929\n",
      "Number of parameters:  382  Trial  3\n",
      "0.9861501051054876\n",
      "Number of parameters:  382  Trial  4\n",
      "0.988118113897302\n",
      "Number of parameters:  382  Trial  5\n",
      "0.9864590396213466\n",
      "0.9881893085691412\n",
      "Number of parameters:  439  Trial  1\n",
      "0.9889058689246257\n",
      "Number of parameters:  439  Trial  2\n",
      "0.9901358848115789\n",
      "Number of parameters:  439  Trial  3\n",
      "0.9864546335125742\n",
      "Number of parameters:  439  Trial  4\n",
      "0.9880054033021042\n",
      "Number of parameters:  439  Trial  5\n",
      "0.9898220473281233\n",
      "0.9901358848115789\n",
      "CPU times: total: 21min 32s\n",
      "Wall time: 1h 12min 49s\n"
     ]
    }
   ],
   "source": [
    "%%time\n",
    "common_seed = 42\n",
    "tanh_model, tanh_history, tanh_mcc = iterative_training(\n",
    "    normalizer, num_train, \n",
    "    num_inputs, num_outputs,\n",
    "    'tanh' , 250, initial_bias, common_seed,\n",
    "    train_features, train_lab, \n",
    "    val_features, val_lab, \n",
    "    test_features, test_lab, 0.99)"
   ]
  },
  {
   "cell_type": "code",
   "execution_count": 23,
   "id": "e3f84824",
   "metadata": {},
   "outputs": [
    {
     "name": "stdout",
     "output_type": "stream",
     "text": [
      "0.9901358848115789\n"
     ]
    }
   ],
   "source": [
    "print(tanh_mcc)"
   ]
  },
  {
   "cell_type": "code",
   "execution_count": 24,
   "id": "70e9792f",
   "metadata": {},
   "outputs": [],
   "source": [
    "test_results = {}\n",
    "test_results['tanh_model'] = tanh_model.evaluate(\n",
    "    test_features, test_lab, verbose=0\n",
    ")"
   ]
  },
  {
   "cell_type": "code",
   "execution_count": 25,
   "id": "9a3c4d4d",
   "metadata": {},
   "outputs": [],
   "source": [
    "def plot_loss(history):\n",
    "    train_loss = history.history['loss']\n",
    "    val_loss = history.history['val_loss']\n",
    "    train_loss_max = max(train_loss)\n",
    "    val_loss_max = max(val_loss)\n",
    "    plt.plot(train_loss, label='loss')\n",
    "    plt.plot(val_loss, label='val_loss')\n",
    "    plt.ylim([0,0.1])\n",
    "    #plt.ylim([0,min(train_loss_max,val_loss_max)])\n",
    "    plt.xlabel('Epoch')\n",
    "    plt.ylabel('Loss')\n",
    "    plt.legend()\n",
    "    plt.grid(True)"
   ]
  },
  {
   "cell_type": "code",
   "execution_count": 26,
   "id": "45f791f9",
   "metadata": {},
   "outputs": [
    {
     "data": {
      "image/png": "[encoded data removed]",
      "text/plain": [
       "<Figure size 640x480 with 1 Axes>"
      ]
     },
     "metadata": {},
     "output_type": "display_data"
    }
   ],
   "source": [
    "plot_loss(tanh_history)"
   ]
  },
  {
   "cell_type": "code",
   "execution_count": 27,
   "id": "95f19c2f",
   "metadata": {},
   "outputs": [],
   "source": [
    "ds2 = ds1.copy()\n",
    "ismisc_full = ds2.pop('ismisc')"
   ]
  },
  {
   "cell_type": "code",
   "execution_count": 28,
   "id": "1e9bcf26",
   "metadata": {},
   "outputs": [
    {
     "name": "stdout",
     "output_type": "stream",
     "text": [
      "1074/1074 [==============================] - 1s 916us/step\n",
      "1074/1074 [==============================] - 1s 765us/step\n",
      "5009/5009 [==============================] - 5s 893us/step\n",
      "7156/7156 [==============================] - 7s 921us/step\n"
     ]
    }
   ],
   "source": [
    "tanh_test_predictions = tanh_model.predict(test_features).flatten()\n",
    "tanh_val_predictions = tanh_model.predict(val_features).flatten()\n",
    "tanh_train_predictions = tanh_model.predict(train_features).flatten()\n",
    "tanh_predictions = tanh_model.predict(ds2).flatten()"
   ]
  },
  {
   "cell_type": "code",
   "execution_count": 29,
   "id": "db1865df",
   "metadata": {},
   "outputs": [
    {
     "name": "stdout",
     "output_type": "stream",
     "text": [
      "Examples:\n",
      "    Total: 228975\n",
      "    Positive: 189958 (82.96% of total)\n",
      "    Negative: 39017 (17.04% of total)\n",
      "\n"
     ]
    }
   ],
   "source": [
    "tot_neg, tot_pos = np.bincount(ismisc_full)\n",
    "total_full = tot_neg + tot_pos\n",
    "print('Examples:\\n    Total: {}\\n    Positive: {} ({:.2f}% of total)\\n    Negative: {} ({:.2f}% of total)\\n'.format(\n",
    "    total_full, tot_pos, 100 * tot_pos / total_full, tot_neg, 100 * tot_neg / total_full))"
   ]
  },
  {
   "cell_type": "code",
   "execution_count": 30,
   "id": "0194e6bb",
   "metadata": {},
   "outputs": [],
   "source": [
    "bool_labels = ismisc_full != 0"
   ]
  },
  {
   "cell_type": "code",
   "execution_count": 31,
   "id": "76fa2000",
   "metadata": {},
   "outputs": [],
   "source": [
    "pos_pred = pd.DataFrame(tanh_predictions[bool_labels])\n",
    "neg_pred = pd.DataFrame(tanh_predictions[~bool_labels])"
   ]
  },
  {
   "cell_type": "code",
   "execution_count": 32,
   "id": "278ea210",
   "metadata": {},
   "outputs": [
    {
     "data": {
      "text/plain": [
       "(array([    28.,     22.,     16.,     24.,     35.,     33.,     30.,\n",
       "            35.,     37.,     41.,     46.,     55.,     65.,     76.,\n",
       "           114.,    129.,    135.,    233.,    380., 188424.]),\n",
       " array([0.  , 0.05, 0.1 , 0.15, 0.2 , 0.25, 0.3 , 0.35, 0.4 , 0.45, 0.5 ,\n",
       "        0.55, 0.6 , 0.65, 0.7 , 0.75, 0.8 , 0.85, 0.9 , 0.95, 1.  ]),\n",
       " <BarContainer object of 20 artists>)"
      ]
     },
     "execution_count": 32,
     "metadata": {},
     "output_type": "execute_result"
    },
    {
     "data": {
      "image/png": "[encoded data removed]",
      "text/plain": [
       "<Figure size 640x480 with 1 Axes>"
      ]
     },
     "metadata": {},
     "output_type": "display_data"
    }
   ],
   "source": [
    "plt.hist(pos_pred,20)"
   ]
  },
  {
   "cell_type": "code",
   "execution_count": 33,
   "id": "f7b08c43",
   "metadata": {},
   "outputs": [
    {
     "data": {
      "text/plain": [
       "(array([37094.,   489.,   259.,   193.,   167.,   134.,    87.,    99.,\n",
       "           83.,    64.,    39.,    48.,    59.,    33.,    31.,    32.,\n",
       "           33.,    16.,    22.,    35.]),\n",
       " array([0.  , 0.05, 0.1 , 0.15, 0.2 , 0.25, 0.3 , 0.35, 0.4 , 0.45, 0.5 ,\n",
       "        0.55, 0.6 , 0.65, 0.7 , 0.75, 0.8 , 0.85, 0.9 , 0.95, 1.  ]),\n",
       " <BarContainer object of 20 artists>)"
      ]
     },
     "execution_count": 33,
     "metadata": {},
     "output_type": "execute_result"
    },
    {
     "data": {
      "image/png": "[encoded data removed]",
      "text/plain": [
       "<Figure size 640x480 with 1 Axes>"
      ]
     },
     "metadata": {},
     "output_type": "display_data"
    }
   ],
   "source": [
    "plt.hist(neg_pred,20)"
   ]
  },
  {
   "cell_type": "code",
   "execution_count": 34,
   "id": "18a1dacb",
   "metadata": {},
   "outputs": [],
   "source": [
    "from sklearn.metrics import confusion_matrix"
   ]
  },
  {
   "cell_type": "code",
   "execution_count": 35,
   "id": "7cb3addd",
   "metadata": {},
   "outputs": [],
   "source": [
    "def plot_cm(labels, predictions, p=0.5):\n",
    "    cm = confusion_matrix(labels, predictions > p)\n",
    "    plt.figure(figsize=(5,5))\n",
    "    sns.heatmap(cm, annot=True, fmt=\"d\")\n",
    "    plt.title('Confusion matrix @{:.2f}'.format(p))\n",
    "    plt.ylabel('Actual label')\n",
    "    plt.xlabel('Predicted label')\n",
    "\n",
    "    print('Immiscible samples correctly classified (True Negatives): ', cm[0][0])\n",
    "    print('Immiscible samples incorrectly classified (False Positives): ', cm[0][1])\n",
    "    print('Miscible samples incorrectly classified (False Negatives): ', cm[1][0])\n",
    "    print('Miscible samples correctly classified (True Positives): ', cm[1][1])\n",
    "    print('Total Miscible samples: ', np.sum(cm[1]))\n",
    "    return cm"
   ]
  },
  {
   "cell_type": "code",
   "execution_count": 36,
   "id": "b4ca9167",
   "metadata": {},
   "outputs": [],
   "source": [
    "pd_predictions = pd.Series(tanh_predictions)"
   ]
  },
  {
   "cell_type": "code",
   "execution_count": 37,
   "id": "fc5d71f6",
   "metadata": {},
   "outputs": [
    {
     "data": {
      "text/plain": [
       "count    2.289750e+05\n",
       "mean     8.300809e-01\n",
       "std      3.722217e-01\n",
       "min      1.623352e-11\n",
       "25%      9.999992e-01\n",
       "50%      1.000000e+00\n",
       "75%      1.000000e+00\n",
       "max      1.000000e+00\n",
       "dtype: float64"
      ]
     },
     "execution_count": 37,
     "metadata": {},
     "output_type": "execute_result"
    }
   ],
   "source": [
    "pd_predictions.describe()"
   ]
  },
  {
   "cell_type": "code",
   "execution_count": 38,
   "id": "3f895497",
   "metadata": {},
   "outputs": [
    {
     "data": {
      "text/plain": [
       "(array([ 37633,    492,    369,    251,    225,    188,    233,    306,\n",
       "           417, 188861], dtype=int64),\n",
       " array([0. , 0.1, 0.2, 0.3, 0.4, 0.5, 0.6, 0.7, 0.8, 0.9, 1. ],\n",
       "       dtype=float32))"
      ]
     },
     "execution_count": 38,
     "metadata": {},
     "output_type": "execute_result"
    }
   ],
   "source": [
    "np.histogram(tanh_predictions)"
   ]
  },
  {
   "cell_type": "code",
   "execution_count": 39,
   "id": "511ee1cb",
   "metadata": {},
   "outputs": [
    {
     "data": {
      "text/plain": [
       "<Axes: ylabel='Frequency'>"
      ]
     },
     "execution_count": 39,
     "metadata": {},
     "output_type": "execute_result"
    },
    {
     "data": {
      "image/png": "[encoded data removed]",
      "text/plain": [
       "<Figure size 640x480 with 1 Axes>"
      ]
     },
     "metadata": {},
     "output_type": "display_data"
    }
   ],
   "source": [
    "pd_predictions.plot(kind='hist')"
   ]
  },
  {
   "cell_type": "code",
   "execution_count": 40,
   "id": "9fc42a20",
   "metadata": {},
   "outputs": [
    {
     "data": {
      "text/plain": [
       "<Axes: ylabel='Frequency'>"
      ]
     },
     "execution_count": 40,
     "metadata": {},
     "output_type": "execute_result"
    },
    {
     "data": {
      "image/png": "[encoded data removed]",
      "text/plain": [
       "<Figure size 640x480 with 1 Axes>"
      ]
     },
     "metadata": {},
     "output_type": "display_data"
    }
   ],
   "source": [
    "pd_ismisc = pd.Series(ismisc_full)\n",
    "pd_ismisc.plot(kind='hist')"
   ]
  },
  {
   "cell_type": "code",
   "execution_count": 41,
   "id": "0e386c26",
   "metadata": {},
   "outputs": [],
   "source": [
    "def classifier_performance(num_points, predictions, lab):\n",
    "    p = np.arange(0,1,1/num_points)\n",
    "    precision = np.empty([num_points,])\n",
    "    recall = np.empty([num_points,])\n",
    "    accuracy = np.empty([num_points,])\n",
    "    f1score = np.empty([num_points,])\n",
    "    mcc = np.empty([num_points,])\n",
    "    for indexp, pi in np.ndenumerate(p):\n",
    "        cm = confusion_matrix(lab, predictions > pi)\n",
    "        precision[indexp] = (cm[1][1]/(cm[1][1] + cm[0][1]))\n",
    "        recall[indexp] = (cm[1][1]/(cm[1][1] + cm[1][0]))\n",
    "        accuracy[indexp] = ((cm[1][1]+cm[0][0])/(cm[1][1] + cm[1][0] + cm[0][0] + cm[0][1]))\n",
    "        f1score[indexp] = (2*precision[indexp]*recall[indexp]/(precision[indexp] + recall[indexp]))\n",
    "        mcc[indexp] = get_mcc(cm[1][1],cm[0][0],cm[0][1],cm[1][0])\n",
    "    return p, precision, recall, accuracy, f1score, mcc"
   ]
  },
  {
   "cell_type": "code",
   "execution_count": 42,
   "id": "ba487f42",
   "metadata": {},
   "outputs": [],
   "source": [
    "def plot_performance(p,prec, rec, acc, f1score, mcc):\n",
    "    fig, (ax1, ax2) = plt.subplots(1,2, figsize=(20,10))\n",
    "    \n",
    "    ax1.plot(p,prec, color='r', label='precision')\n",
    "    ax1.plot(p,rec, color='b', label='recall')\n",
    "    ax1.plot(p,acc, color='black', label='accuracy')\n",
    "    ax1.set_ylabel('Metric value')\n",
    "    ax1.set_xlabel('Probability')\n",
    "    ax1.set_xticks(np.arange(0,1,0.1))\n",
    "    ax1.legend()\n",
    "    \n",
    "    ax = ax2.twinx()\n",
    "    ax2.plot(p,f1score, color='orange', label='F1 score')\n",
    "    ax.plot(p,mcc, color='black', label='MCC')\n",
    "    ax2.set_ylabel('Metric value')\n",
    "    ax2.set_xlabel('Probability')\n",
    "    ax1.set_xticks(np.arange(0,1,0.1))\n",
    "    plt.show()"
   ]
  },
  {
   "cell_type": "code",
   "execution_count": 43,
   "id": "33493962",
   "metadata": {},
   "outputs": [
    {
     "data": {
      "image/png": "[encoded data removed]",
      "text/plain": [
       "<Figure size 2000x1000 with 3 Axes>"
      ]
     },
     "metadata": {},
     "output_type": "display_data"
    }
   ],
   "source": [
    "p, precision, recall, accuracy, f1score, mcc = classifier_performance(1000, tanh_val_predictions, val_lab)\n",
    "plot_performance(p,precision,recall,accuracy,f1score, mcc)"
   ]
  },
  {
   "cell_type": "code",
   "execution_count": 44,
   "id": "25960cfc",
   "metadata": {},
   "outputs": [
    {
     "name": "stdout",
     "output_type": "stream",
     "text": [
      "Accuracy:  0.997234030163629 476\n",
      "F1 score:  0.9983320750741788 476\n",
      "MCC:  0.9902392806602291 507\n"
     ]
    }
   ],
   "source": [
    "print('Accuracy: ', max(accuracy), np.argmax(accuracy))\n",
    "print('F1 score: ', max(f1score), np.argmax(f1score))\n",
    "print('MCC: ', max(mcc), np.argmax(mcc))"
   ]
  },
  {
   "cell_type": "code",
   "execution_count": 45,
   "id": "771d7c52",
   "metadata": {},
   "outputs": [
    {
     "data": {
      "text/plain": [
       "0.999929765416491"
      ]
     },
     "execution_count": 45,
     "metadata": {},
     "output_type": "execute_result"
    }
   ],
   "source": [
    "recall[1]"
   ]
  },
  {
   "cell_type": "code",
   "execution_count": 46,
   "id": "29d04782",
   "metadata": {},
   "outputs": [
    {
     "data": {
      "text/plain": [
       "0.9998577828343881"
      ]
     },
     "execution_count": 46,
     "metadata": {},
     "output_type": "execute_result"
    }
   ],
   "source": [
    "precision[990]"
   ]
  },
  {
   "cell_type": "code",
   "execution_count": 47,
   "id": "17af313b",
   "metadata": {},
   "outputs": [
    {
     "name": "stdout",
     "output_type": "stream",
     "text": [
      "Precision:  0.9998579495010477 985\n"
     ]
    }
   ],
   "source": [
    "print('Precision: ', max(precision), np.argmax(precision))"
   ]
  },
  {
   "cell_type": "code",
   "execution_count": 48,
   "id": "3e219814",
   "metadata": {},
   "outputs": [
    {
     "data": {
      "text/plain": [
       "0.9901358848115789"
      ]
     },
     "execution_count": 48,
     "metadata": {},
     "output_type": "execute_result"
    }
   ],
   "source": [
    "mcc[500]"
   ]
  },
  {
   "cell_type": "code",
   "execution_count": 49,
   "id": "8d4ec1c8",
   "metadata": {},
   "outputs": [
    {
     "name": "stderr",
     "output_type": "stream",
     "text": [
      "WARNING:absl:Found untraced functions such as _update_step_xla while saving (showing 1 of 1). These functions will not be directly callable after loading.\n"
     ]
    },
    {
     "name": "stdout",
     "output_type": "stream",
     "text": [
      "INFO:tensorflow:Assets written to: Case2_slle_deep\\assets\n"
     ]
    },
    {
     "name": "stderr",
     "output_type": "stream",
     "text": [
      "INFO:tensorflow:Assets written to: Case2_slle_deep\\assets\n"
     ]
    }
   ],
   "source": [
    "tanh_model.save('Case2_slle_deep')"
   ]
  },
  {
   "cell_type": "code",
   "execution_count": null,
   "id": "20dea535",
   "metadata": {},
   "outputs": [],
   "source": []
  }
 ],
 "metadata": {
  "kernelspec": {
   "display_name": "Python 3 (ipykernel)",
   "language": "python",
   "name": "python3"
  },
  "language_info": {
   "codemirror_mode": {
    "name": "ipython",
    "version": 3
   },
   "file_extension": ".py",
   "mimetype": "text/x-python",
   "name": "python",
   "nbconvert_exporter": "python",
   "pygments_lexer": "ipython3",
   "version": "3.9.16"
  }
 },
 "nbformat": 4,
 "nbformat_minor": 5
}
