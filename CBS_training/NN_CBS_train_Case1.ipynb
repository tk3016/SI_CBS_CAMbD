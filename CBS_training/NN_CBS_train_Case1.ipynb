{
 "cells": [
  {
   "cell_type": "markdown",
   "id": "1c722b32",
   "metadata": {},
   "source": [
    "Importing relevant libraries"
   ]
  },
  {
   "cell_type": "code",
   "execution_count": 1,
   "id": "d9ff29e8",
   "metadata": {},
   "outputs": [],
   "source": [
    "import numpy as np\n",
    "import pandas as pd\n",
    "import math\n",
    "import matplotlib as mpl\n",
    "import matplotlib.pyplot as plt\n",
    "import os\n",
    "import tempfile\n",
    "import random"
   ]
  },
  {
   "cell_type": "code",
   "execution_count": 2,
   "id": "21f22db3",
   "metadata": {},
   "outputs": [],
   "source": [
    "np.set_printoptions(precision=3, suppress=True)"
   ]
  },
  {
   "cell_type": "code",
   "execution_count": 3,
   "id": "7266dfac",
   "metadata": {},
   "outputs": [],
   "source": [
    "import tensorflow as tf\n",
    "from tensorflow import keras\n",
    "from tensorflow.keras import layers\n",
    "from tensorflow.keras.layers import *\n",
    "from tensorflow.keras.models import *\n",
    "from tensorflow.keras import backend as K"
   ]
  },
  {
   "cell_type": "code",
   "execution_count": 4,
   "id": "7d3db35d",
   "metadata": {},
   "outputs": [
    {
     "name": "stdout",
     "output_type": "stream",
     "text": [
      "2.12.0\n"
     ]
    }
   ],
   "source": [
    "print(tf.version.VERSION)"
   ]
  },
  {
   "cell_type": "markdown",
   "id": "ef64ace1",
   "metadata": {},
   "source": [
    "Loading dataset generated from Tangent Plane Distance calculations done in PhasePY"
   ]
  },
  {
   "cell_type": "code",
   "execution_count": 5,
   "id": "3586d009",
   "metadata": {},
   "outputs": [],
   "source": [
    "filename = 'Case1_tpd_calc_slle.csv'"
   ]
  },
  {
   "cell_type": "code",
   "execution_count": 6,
   "id": "cb5d0c82",
   "metadata": {},
   "outputs": [],
   "source": [
    "raw_dataset = pd.read_csv(filename, header=0)"
   ]
  },
  {
   "cell_type": "code",
   "execution_count": 7,
   "id": "eb63080f",
   "metadata": {},
   "outputs": [],
   "source": [
    "dataset = raw_dataset.copy()\n",
    "dataset = dataset.dropna()"
   ]
  },
  {
   "cell_type": "code",
   "execution_count": 8,
   "id": "45a20a96",
   "metadata": {},
   "outputs": [],
   "source": [
    "ds1 = dataset.drop(columns=['Unnamed: 0','Solvent 1','Solvent 2','T'])"
   ]
  },
  {
   "cell_type": "markdown",
   "id": "948c63c6",
   "metadata": {},
   "source": [
    "Partitioning the dataset into training, validation and testing by randomly splitting it. The seed used for randomly splitting the dataset is fixed!"
   ]
  },
  {
   "cell_type": "code",
   "execution_count": 9,
   "id": "87bf7df3",
   "metadata": {},
   "outputs": [],
   "source": [
    "def get_dataset_partitions_tf(df, train_split=0.7, val_split=0.15, test_split=0.15):\n",
    "    assert (train_split + test_split + val_split) == 1\n",
    "    assert val_split == test_split\n",
    "    \n",
    "    df_sample = df.sample(frac=1, random_state=12)\n",
    "    \n",
    "    indices_or_sections = [int(train_split * len(df)), int((1 - val_split - test_split) * len(df))]\n",
    "    train_ds, val_ds, test_ds = np.split(df_sample, indices_or_sections)\n",
    "    \n",
    "    return train_ds, val_ds, test_ds"
   ]
  },
  {
   "cell_type": "code",
   "execution_count": 10,
   "id": "974c6ce7",
   "metadata": {},
   "outputs": [],
   "source": [
    "train, val, test = np.split(ds1.sample(frac=1, random_state=12), [int(0.7*len(ds1)), int(0.85*len(ds1))])"
   ]
  },
  {
   "cell_type": "markdown",
   "id": "be48830d",
   "metadata": {},
   "source": [
    "Quick inspection of the data"
   ]
  },
  {
   "cell_type": "code",
   "execution_count": 11,
   "id": "5483b6f8",
   "metadata": {},
   "outputs": [
    {
     "name": "stdout",
     "output_type": "stream",
     "text": [
      "12898 training examples\n",
      "2764 validation examples\n",
      "2765 testing examples\n"
     ]
    }
   ],
   "source": [
    "print(len(train), 'training examples')\n",
    "print(len(val), 'validation examples')\n",
    "print(len(test), 'testing examples')"
   ]
  },
  {
   "cell_type": "code",
   "execution_count": 12,
   "id": "d4a1fce0",
   "metadata": {},
   "outputs": [
    {
     "data": {
      "text/html": [
       "<div>\n",
       "<style scoped>\n",
       "    .dataframe tbody tr th:only-of-type {\n",
       "        vertical-align: middle;\n",
       "    }\n",
       "\n",
       "    .dataframe tbody tr th {\n",
       "        vertical-align: top;\n",
       "    }\n",
       "\n",
       "    .dataframe thead th {\n",
       "        text-align: right;\n",
       "    }\n",
       "</style>\n",
       "<table border=\"1\" class=\"dataframe\">\n",
       "  <thead>\n",
       "    <tr style=\"text-align: right;\">\n",
       "      <th></th>\n",
       "      <th>count</th>\n",
       "      <th>mean</th>\n",
       "      <th>std</th>\n",
       "      <th>min</th>\n",
       "      <th>25%</th>\n",
       "      <th>50%</th>\n",
       "      <th>75%</th>\n",
       "      <th>max</th>\n",
       "    </tr>\n",
       "  </thead>\n",
       "  <tbody>\n",
       "    <tr>\n",
       "      <th>q1</th>\n",
       "      <td>12898.0</td>\n",
       "      <td>2.583560</td>\n",
       "      <td>0.764740</td>\n",
       "      <td>1.432000</td>\n",
       "      <td>2.336000</td>\n",
       "      <td>2.588000</td>\n",
       "      <td>3.124000</td>\n",
       "      <td>3.952000</td>\n",
       "    </tr>\n",
       "    <tr>\n",
       "      <th>q2</th>\n",
       "      <td>12898.0</td>\n",
       "      <td>2.594872</td>\n",
       "      <td>0.785821</td>\n",
       "      <td>1.400000</td>\n",
       "      <td>2.336000</td>\n",
       "      <td>2.588000</td>\n",
       "      <td>3.116000</td>\n",
       "      <td>3.952000</td>\n",
       "    </tr>\n",
       "    <tr>\n",
       "      <th>r1</th>\n",
       "      <td>12898.0</td>\n",
       "      <td>2.789122</td>\n",
       "      <td>0.944430</td>\n",
       "      <td>1.431100</td>\n",
       "      <td>2.573500</td>\n",
       "      <td>2.575500</td>\n",
       "      <td>3.249100</td>\n",
       "      <td>4.595900</td>\n",
       "    </tr>\n",
       "    <tr>\n",
       "      <th>r2</th>\n",
       "      <td>12898.0</td>\n",
       "      <td>2.896337</td>\n",
       "      <td>1.214561</td>\n",
       "      <td>0.920000</td>\n",
       "      <td>2.573500</td>\n",
       "      <td>2.870000</td>\n",
       "      <td>3.922800</td>\n",
       "      <td>4.595900</td>\n",
       "    </tr>\n",
       "    <tr>\n",
       "      <th>x1</th>\n",
       "      <td>12898.0</td>\n",
       "      <td>0.333398</td>\n",
       "      <td>0.180022</td>\n",
       "      <td>0.002125</td>\n",
       "      <td>0.202478</td>\n",
       "      <td>0.334565</td>\n",
       "      <td>0.452309</td>\n",
       "      <td>0.983901</td>\n",
       "    </tr>\n",
       "    <tr>\n",
       "      <th>x2</th>\n",
       "      <td>12898.0</td>\n",
       "      <td>0.334021</td>\n",
       "      <td>0.180257</td>\n",
       "      <td>0.001941</td>\n",
       "      <td>0.199875</td>\n",
       "      <td>0.333955</td>\n",
       "      <td>0.442793</td>\n",
       "      <td>0.995602</td>\n",
       "    </tr>\n",
       "    <tr>\n",
       "      <th>ismisc</th>\n",
       "      <td>12898.0</td>\n",
       "      <td>0.865483</td>\n",
       "      <td>0.341220</td>\n",
       "      <td>0.000000</td>\n",
       "      <td>1.000000</td>\n",
       "      <td>1.000000</td>\n",
       "      <td>1.000000</td>\n",
       "      <td>1.000000</td>\n",
       "    </tr>\n",
       "  </tbody>\n",
       "</table>\n",
       "</div>"
      ],
      "text/plain": [
       "          count      mean       std       min       25%       50%       75%  \\\n",
       "q1      12898.0  2.583560  0.764740  1.432000  2.336000  2.588000  3.124000   \n",
       "q2      12898.0  2.594872  0.785821  1.400000  2.336000  2.588000  3.116000   \n",
       "r1      12898.0  2.789122  0.944430  1.431100  2.573500  2.575500  3.249100   \n",
       "r2      12898.0  2.896337  1.214561  0.920000  2.573500  2.870000  3.922800   \n",
       "x1      12898.0  0.333398  0.180022  0.002125  0.202478  0.334565  0.452309   \n",
       "x2      12898.0  0.334021  0.180257  0.001941  0.199875  0.333955  0.442793   \n",
       "ismisc  12898.0  0.865483  0.341220  0.000000  1.000000  1.000000  1.000000   \n",
       "\n",
       "             max  \n",
       "q1      3.952000  \n",
       "q2      3.952000  \n",
       "r1      4.595900  \n",
       "r2      4.595900  \n",
       "x1      0.983901  \n",
       "x2      0.995602  \n",
       "ismisc  1.000000  "
      ]
     },
     "execution_count": 12,
     "metadata": {},
     "output_type": "execute_result"
    }
   ],
   "source": [
    "train.describe().transpose()"
   ]
  },
  {
   "cell_type": "markdown",
   "id": "b4483ec9",
   "metadata": {},
   "source": [
    "Segregating the features (inputs) and labels (outputs) from the dataset"
   ]
  },
  {
   "cell_type": "code",
   "execution_count": 13,
   "id": "5e5a85f2",
   "metadata": {},
   "outputs": [],
   "source": [
    "train_features = train.copy()\n",
    "test_features = test.copy()\n",
    "val_features = val.copy()\n",
    "train_lab = train_features.pop('ismisc')\n",
    "test_lab = test_features.pop('ismisc')\n",
    "val_lab = val_features.pop('ismisc')"
   ]
  },
  {
   "cell_type": "markdown",
   "id": "32346175",
   "metadata": {},
   "source": [
    "Normalising the training data to make it more amenable for training!"
   ]
  },
  {
   "cell_type": "code",
   "execution_count": 14,
   "id": "ba53f8c5",
   "metadata": {},
   "outputs": [
    {
     "name": "stdout",
     "output_type": "stream",
     "text": [
      "[[2.584 2.595 2.789 2.896 0.333 0.334]]\n"
     ]
    }
   ],
   "source": [
    "normalizer = tf.keras.layers.Normalization(axis=-1)\n",
    "normalizer.adapt(np.array(train_features))\n",
    "print(normalizer.mean.numpy())"
   ]
  },
  {
   "cell_type": "markdown",
   "id": "73258c99",
   "metadata": {},
   "source": [
    "Segregating the positive and the negative labels"
   ]
  },
  {
   "cell_type": "code",
   "execution_count": 15,
   "id": "63077e65",
   "metadata": {},
   "outputs": [
    {
     "name": "stdout",
     "output_type": "stream",
     "text": [
      "Examples:\n",
      "    Total: 12898\n",
      "    Positive: 11163 (86.55% of total)\n",
      "    Negative: 1735 (13.45% of total)\n",
      "\n",
      "[1.862]\n"
     ]
    }
   ],
   "source": [
    "bool_train_labels = train_lab != 0\n",
    "neg, pos = np.bincount(train_lab)\n",
    "train_full = neg + pos\n",
    "print('Examples:\\n    Total: {}\\n    Positive: {} ({:.2f}% of total)\\n    Negative: {} ({:.2f}% of total)\\n'.format(\n",
    "    train_full, pos, 100 * pos / train_full, neg, 100 * neg / train_full))\n",
    "initial_bias = np.log([pos/neg])\n",
    "print(initial_bias)"
   ]
  },
  {
   "cell_type": "code",
   "execution_count": 16,
   "id": "e89273d8",
   "metadata": {},
   "outputs": [],
   "source": [
    "BATCH_SIZE = 114\n",
    "STEPS_PER_EPOCH = len(train)/BATCH_SIZE\n",
    "lr_schedule = tf.keras.optimizers.schedules.InverseTimeDecay(\n",
    "    0.03,\n",
    "    decay_steps=STEPS_PER_EPOCH*10,\n",
    "    decay_rate=1,\n",
    "    staircase=False\n",
    ")"
   ]
  },
  {
   "cell_type": "code",
   "execution_count": 17,
   "id": "07f5a8fc",
   "metadata": {},
   "outputs": [],
   "source": [
    "def build_and_compile_model_single_layer(norm,num_neurons,activation='tanh',output_bias=None,seed_value=None):\n",
    "    if seed_value is not None:\n",
    "        #random.seed(seed_value)\n",
    "        #np.random.seed(seed_value)\n",
    "        tf.random.set_seed(seed_value)\n",
    "        if activation =='relu':\n",
    "            kernel_initializer = tf.keras.initializers.he_normal()\n",
    "        else:\n",
    "            kernel_initializer = tf.keras.initializers.glorot_uniform()\n",
    "    if activation =='relu':\n",
    "        kernel_initializer = 'he_normal'\n",
    "    else:\n",
    "        kernel_initializer = 'glorot_uniform'\n",
    "    if output_bias is not None:\n",
    "        output_bias = tf.keras.initializers.Constant(output_bias)\n",
    "    #kernel_regularizer = tf.keras.regularizers.l2(l=0.0001)\n",
    "    \n",
    "    model = keras.Sequential([\n",
    "        norm,\n",
    "        layers.Dense(num_neurons, activation=activation, \n",
    "                     kernel_initializer=kernel_initializer, kernel_regularizer=None),\n",
    "        layers.Dense(1, activation='sigmoid', kernel_initializer=kernel_initializer, bias_initializer=output_bias)\n",
    "    ])\n",
    "    \n",
    "    model.compile(loss = tf.keras.losses.BinaryCrossentropy(),\n",
    "                  optimizer=tf.keras.optimizers.Adam(lr_schedule),\n",
    "                 metrics = [\n",
    "        tf.keras.metrics.BinaryCrossentropy(name='binary_crossentropy'),\n",
    "        tf.keras.metrics.BinaryAccuracy(name='accuracy'),\n",
    "        tf.keras.metrics.TruePositives(name='tp'),\n",
    "        tf.keras.metrics.FalsePositives(name='fp'),\n",
    "        tf.keras.metrics.TrueNegatives(name='tn'),\n",
    "        tf.keras.metrics.FalseNegatives(name='fn'),\n",
    "        #tf.keras.metrics.Precision(name='precision'),\n",
    "        #tf.keras.metrics.Recall(name='recall'),\n",
    "        #tf.keras.metrics.AUC(name='AUC'),\n",
    "        #tf.keras.metrics.AUC(name='prc', curve='PR'),\n",
    "            ]\n",
    "                 )\n",
    "    return model"
   ]
  },
  {
   "cell_type": "code",
   "execution_count": 18,
   "id": "a542f509",
   "metadata": {},
   "outputs": [],
   "source": [
    "def neurons_upper_bound(num_train, num_inputs, num_outputs):\n",
    "    num_train_eq = num_train * num_outputs\n",
    "    num_neurons_ub = -1 + math.ceil((num_train_eq - num_outputs)/(num_inputs + num_outputs + 1))\n",
    "    num_neurons_ub = math.floor(num_neurons_ub/3) #heuristic\n",
    "    return num_neurons_ub"
   ]
  },
  {
   "cell_type": "code",
   "execution_count": 19,
   "id": "b94cfe21",
   "metadata": {},
   "outputs": [],
   "source": [
    "def get_mcc(tp,tn,fp,fn):\n",
    "    prod1 = tp*tn\n",
    "    prod2 = fp*fn\n",
    "    sum1 = tp+fp\n",
    "    sum2 = tp+fn\n",
    "    sum3 = tn+fp\n",
    "    sum4 = tn+fn\n",
    "    if sum1 == 0 or sum2 == 0 or sum3==0 or sum4==0:\n",
    "        return (prod1 - prod2)\n",
    "    else:\n",
    "        return (prod1 - prod2)/math.sqrt(sum1*sum2*sum3*sum4)"
   ]
  },
  {
   "cell_type": "code",
   "execution_count": 20,
   "id": "9a3c4d4d",
   "metadata": {},
   "outputs": [],
   "source": [
    "def plot_loss(history):\n",
    "    train_loss = history.history['loss']\n",
    "    val_loss = history.history['val_loss']\n",
    "    train_loss_max = max(train_loss)\n",
    "    val_loss_max = max(val_loss)\n",
    "    plt.plot(train_loss, label='loss')\n",
    "    plt.plot(val_loss, label='val_loss')\n",
    "    plt.ylim([0,0.1])\n",
    "    #plt.ylim([0,min(train_loss_max,val_loss_max)])\n",
    "    plt.xlabel('Epoch')\n",
    "    plt.ylabel('Error [misc12]')\n",
    "    plt.legend()\n",
    "    plt.grid(True)"
   ]
  },
  {
   "cell_type": "code",
   "execution_count": 21,
   "id": "e23b03a1",
   "metadata": {},
   "outputs": [],
   "source": [
    "def iterative_training(norm, num_train, num_inputs,\n",
    "                       num_outputs, activation, num_epochs, \n",
    "                       output_bias,common_seed,train_features, train_labels,\n",
    "                       val_features, val_labels,\n",
    "                       test_features, test_labels, tolerance):\n",
    "    num_neurons_ub = neurons_upper_bound(num_train, num_inputs, num_outputs)\n",
    "    mcc = {}\n",
    "    max_value = 0\n",
    "    for i in range(1, num_neurons_ub):\n",
    "        for j in range(0,5):\n",
    "            seed_value = common_seed + j\n",
    "            print(\"Number of neurons: \",i,\" Trial \", j+1)\n",
    "            model = build_and_compile_model_single_layer(norm,i,activation,output_bias,seed_value)\n",
    "            history = model.fit(\n",
    "            train_features,\n",
    "            train_labels,\n",
    "            batch_size = BATCH_SIZE,\n",
    "            epochs = num_epochs,\n",
    "            verbose = 0,\n",
    "            validation_data = (val_features, val_lab)\n",
    "            )\n",
    "            mcc[i,j] = get_mcc(history.history['val_tp'][num_epochs-1], history.history['val_tn'][num_epochs-1], history.history['val_fp'][num_epochs-1], history.history['val_fn'][num_epochs-1])\n",
    "            print(mcc[i,j])\n",
    "            if (mcc[i,j] > max_value):\n",
    "                max_value = mcc[i,j]\n",
    "                best_model = model\n",
    "                best_history = history    \n",
    "        #max_value = max(mcc.values())\n",
    "        print(max_value)\n",
    "        if max_value >= tolerance:\n",
    "            #max_key = max(mcc, key=mcc.get)\n",
    "            #print(max_key)\n",
    "            return best_model, best_history, max_value\n",
    "            break\n",
    "        else:\n",
    "            continue"
   ]
  },
  {
   "cell_type": "code",
   "execution_count": 22,
   "id": "3ed3990a",
   "metadata": {},
   "outputs": [],
   "source": [
    "num_outputs = 1\n",
    "num_inputs = len(train_features.columns) - num_outputs\n",
    "num_train = len(train_features)"
   ]
  },
  {
   "cell_type": "code",
   "execution_count": 23,
   "id": "8d28aed9",
   "metadata": {
    "scrolled": true
   },
   "outputs": [
    {
     "name": "stdout",
     "output_type": "stream",
     "text": [
      "Number of neurons:  1  Trial  1\n",
      "0.9411202079296042\n",
      "Number of neurons:  1  Trial  2\n",
      "0.9377068294444125\n",
      "Number of neurons:  1  Trial  3\n",
      "0.9377068294444125\n",
      "Number of neurons:  1  Trial  4\n",
      "0.9377068294444125\n",
      "Number of neurons:  1  Trial  5\n",
      "0.9377068294444125\n",
      "0.9411202079296042\n",
      "Number of neurons:  2  Trial  1\n",
      "0.9642812318324969\n",
      "Number of neurons:  2  Trial  2\n",
      "0.9629384329617022\n",
      "Number of neurons:  2  Trial  3\n",
      "0.9625175224500578\n",
      "Number of neurons:  2  Trial  4\n",
      "0.9642812318324969\n",
      "Number of neurons:  2  Trial  5\n",
      "0.9641894693200663\n",
      "0.9642812318324969\n",
      "Number of neurons:  3  Trial  1\n",
      "0.9837670727798944\n",
      "Number of neurons:  3  Trial  2\n",
      "0.9853692906306346\n",
      "Number of neurons:  3  Trial  3\n",
      "0.9820411256212128\n",
      "Number of neurons:  3  Trial  4\n",
      "0.9805818969913346\n",
      "Number of neurons:  3  Trial  5\n",
      "0.9772114804764058\n",
      "0.9853692906306346\n",
      "Number of neurons:  4  Trial  1\n",
      "0.9821177281971292\n",
      "Number of neurons:  4  Trial  2\n",
      "0.9853692906306346\n",
      "Number of neurons:  4  Trial  3\n",
      "0.978742904855532\n",
      "Number of neurons:  4  Trial  4\n",
      "0.9853337519214227\n",
      "Number of neurons:  4  Trial  5\n",
      "0.9788148292153184\n",
      "0.9853692906306346\n",
      "Number of neurons:  5  Trial  1\n",
      "0.9853692906306346\n",
      "Number of neurons:  5  Trial  2\n",
      "0.9837224860545756\n",
      "Number of neurons:  5  Trial  3\n",
      "0.9820183851620802\n",
      "Number of neurons:  5  Trial  4\n",
      "0.9853085592474811\n",
      "Number of neurons:  5  Trial  5\n",
      "0.9853085592474811\n",
      "0.9853692906306346\n",
      "Number of neurons:  6  Trial  1\n",
      "0.9853692906306346\n",
      "Number of neurons:  6  Trial  2\n",
      "0.98862085306414\n",
      "Number of neurons:  6  Trial  3\n",
      "0.980424695469783\n",
      "Number of neurons:  6  Trial  4\n",
      "0.9820742905683706\n",
      "Number of neurons:  6  Trial  5\n",
      "0.9820742905683706\n",
      "0.98862085306414\n",
      "Number of neurons:  7  Trial  1\n",
      "0.9869779888436605\n",
      "Number of neurons:  7  Trial  2\n",
      "0.9853337519214227\n",
      "Number of neurons:  7  Trial  3\n",
      "0.9869515719800035\n",
      "Number of neurons:  7  Trial  4\n",
      "0.9853337519214227\n",
      "Number of neurons:  7  Trial  5\n",
      "0.98862085306414\n",
      "0.98862085306414\n",
      "Number of neurons:  8  Trial  1\n",
      "0.9870615956699328\n",
      "Number of neurons:  8  Trial  2\n",
      "0.9902623530956935\n",
      "Number of neurons:  8  Trial  3\n",
      "0.9836881337248932\n",
      "Number of neurons:  8  Trial  4\n",
      "0.9869779888436605\n",
      "Number of neurons:  8  Trial  5\n",
      "0.9869779888436605\n",
      "0.9902623530956935\n",
      "CPU times: total: 19min 32s\n",
      "Wall time: 53min 13s\n"
     ]
    }
   ],
   "source": [
    "%%time\n",
    "common_seed = 42\n",
    "tanh_model, tanh_history, tanh_mcc = iterative_training(\n",
    "    normalizer, num_train, \n",
    "    num_inputs, num_outputs,\n",
    "    'tanh' , 150, initial_bias, common_seed,\n",
    "    train_features, train_lab, \n",
    "    val_features, val_lab, \n",
    "    test_features, test_lab, 0.99)"
   ]
  },
  {
   "cell_type": "code",
   "execution_count": 24,
   "id": "e3f84824",
   "metadata": {},
   "outputs": [
    {
     "name": "stdout",
     "output_type": "stream",
     "text": [
      "0.9902623530956935\n"
     ]
    }
   ],
   "source": [
    "print(tanh_mcc)"
   ]
  },
  {
   "cell_type": "code",
   "execution_count": 25,
   "id": "70e9792f",
   "metadata": {},
   "outputs": [],
   "source": [
    "test_results = {}\n",
    "test_results['tanh_model'] = tanh_model.evaluate(\n",
    "    test_features, test_lab, verbose=0\n",
    ")"
   ]
  },
  {
   "cell_type": "code",
   "execution_count": 26,
   "id": "45f791f9",
   "metadata": {},
   "outputs": [
    {
     "data": {
      "image/png": "[encoded data removed]",
      "text/plain": [
       "<Figure size 640x480 with 1 Axes>"
      ]
     },
     "metadata": {},
     "output_type": "display_data"
    }
   ],
   "source": [
    "plot_loss(tanh_history)"
   ]
  },
  {
   "cell_type": "code",
   "execution_count": 27,
   "id": "95f19c2f",
   "metadata": {},
   "outputs": [],
   "source": [
    "ds2 = ds1.copy()\n",
    "ismisc_full = ds2.pop('ismisc')"
   ]
  },
  {
   "cell_type": "code",
   "execution_count": 28,
   "id": "1e9bcf26",
   "metadata": {},
   "outputs": [
    {
     "name": "stdout",
     "output_type": "stream",
     "text": [
      "87/87 [==============================] - 0s 2ms/step\n",
      "87/87 [==============================] - 0s 2ms/step\n",
      "404/404 [==============================] - 1s 3ms/step\n",
      "576/576 [==============================] - 1s 2ms/step\n"
     ]
    }
   ],
   "source": [
    "tanh_test_predictions = tanh_model.predict(test_features).flatten()\n",
    "tanh_val_predictions = tanh_model.predict(val_features).flatten()\n",
    "tanh_train_predictions = tanh_model.predict(train_features).flatten()\n",
    "tanh_predictions = tanh_model.predict(ds2).flatten()"
   ]
  },
  {
   "cell_type": "code",
   "execution_count": 29,
   "id": "db1865df",
   "metadata": {},
   "outputs": [
    {
     "name": "stdout",
     "output_type": "stream",
     "text": [
      "Examples:\n",
      "    Total: 18427\n",
      "    Positive: 15962 (86.62% of total)\n",
      "    Negative: 2465 (13.38% of total)\n",
      "\n"
     ]
    }
   ],
   "source": [
    "tot_neg, tot_pos = np.bincount(ismisc_full)\n",
    "total_full = tot_neg + tot_pos\n",
    "print('Examples:\\n    Total: {}\\n    Positive: {} ({:.2f}% of total)\\n    Negative: {} ({:.2f}% of total)\\n'.format(\n",
    "    total_full, tot_pos, 100 * tot_pos / total_full, tot_neg, 100 * tot_neg / total_full))"
   ]
  },
  {
   "cell_type": "code",
   "execution_count": 30,
   "id": "0194e6bb",
   "metadata": {},
   "outputs": [],
   "source": [
    "bool_labels = ismisc_full != 0"
   ]
  },
  {
   "cell_type": "code",
   "execution_count": 31,
   "id": "76fa2000",
   "metadata": {},
   "outputs": [],
   "source": [
    "pos_pred = pd.DataFrame(tanh_predictions[bool_labels])\n",
    "neg_pred = pd.DataFrame(tanh_predictions[~bool_labels])"
   ]
  },
  {
   "cell_type": "code",
   "execution_count": 32,
   "id": "278ea210",
   "metadata": {},
   "outputs": [
    {
     "data": {
      "text/plain": [
       "(array([    5.,     1.,     1.,     3.,     3.,     3.,     7.,     1.,\n",
       "            2.,     5.,     5.,     4.,     8.,     7.,    12.,    11.,\n",
       "           19.,    20.,    49., 15796.]),\n",
       " array([0.01 , 0.06 , 0.109, 0.159, 0.208, 0.258, 0.307, 0.357, 0.406,\n",
       "        0.456, 0.505, 0.555, 0.604, 0.654, 0.703, 0.753, 0.802, 0.852,\n",
       "        0.901, 0.951, 1.   ]),\n",
       " <BarContainer object of 20 artists>)"
      ]
     },
     "execution_count": 32,
     "metadata": {},
     "output_type": "execute_result"
    },
    {
     "data": {
      "image/png": "[encoded data removed]",
      "text/plain": [
       "<Figure size 640x480 with 1 Axes>"
      ]
     },
     "metadata": {},
     "output_type": "display_data"
    }
   ],
   "source": [
    "plt.hist(pos_pred,20)"
   ]
  },
  {
   "cell_type": "code",
   "execution_count": 33,
   "id": "f7b08c43",
   "metadata": {},
   "outputs": [
    {
     "data": {
      "text/plain": [
       "(array([2207.,   88.,   48.,   37.,   19.,    6.,   13.,   11.,    7.,\n",
       "           6.,    6.,    5.,    3.,    1.,    4.,    1.,    1.,    0.,\n",
       "           0.,    2.]),\n",
       " array([0.   , 0.046, 0.092, 0.138, 0.184, 0.23 , 0.276, 0.322, 0.368,\n",
       "        0.414, 0.46 , 0.506, 0.552, 0.598, 0.644, 0.69 , 0.736, 0.782,\n",
       "        0.828, 0.874, 0.92 ]),\n",
       " <BarContainer object of 20 artists>)"
      ]
     },
     "execution_count": 33,
     "metadata": {},
     "output_type": "execute_result"
    },
    {
     "data": {
      "image/png": "[encoded data removed]",
      "text/plain": [
       "<Figure size 640x480 with 1 Axes>"
      ]
     },
     "metadata": {},
     "output_type": "display_data"
    }
   ],
   "source": [
    "plt.hist(neg_pred,20)"
   ]
  },
  {
   "cell_type": "code",
   "execution_count": 34,
   "id": "7cb3addd",
   "metadata": {},
   "outputs": [],
   "source": [
    "def plot_cm(labels, predictions, p=0.5):\n",
    "    cm = confusion_matrix(labels, predictions > p)\n",
    "    plt.figure(figsize=(5,5))\n",
    "    sns.heatmap(cm, annot=True, fmt=\"d\")\n",
    "    plt.title('Confusion matrix @{:.2f}'.format(p))\n",
    "    plt.ylabel('Actual label')\n",
    "    plt.xlabel('Predicted label')\n",
    "\n",
    "    print('Immiscible samples correctly classified (True Negatives): ', cm[0][0])\n",
    "    print('Immiscible samples incorrectly classified (False Positives): ', cm[0][1])\n",
    "    print('Miscible samples incorrectly classified (False Negatives): ', cm[1][0])\n",
    "    print('Miscible samples correctly classified (True Positives): ', cm[1][1])\n",
    "    print('Total Miscible samples: ', np.sum(cm[1]))\n",
    "    return cm"
   ]
  },
  {
   "cell_type": "code",
   "execution_count": 35,
   "id": "b4ca9167",
   "metadata": {},
   "outputs": [],
   "source": [
    "pd_predictions = pd.Series(tanh_predictions)"
   ]
  },
  {
   "cell_type": "code",
   "execution_count": 36,
   "id": "fc5d71f6",
   "metadata": {},
   "outputs": [
    {
     "data": {
      "text/plain": [
       "count    1.842700e+04\n",
       "mean     8.664580e-01\n",
       "std      3.345188e-01\n",
       "min      1.320574e-11\n",
       "25%      9.999992e-01\n",
       "50%      1.000000e+00\n",
       "75%      1.000000e+00\n",
       "max      1.000000e+00\n",
       "dtype: float64"
      ]
     },
     "execution_count": 36,
     "metadata": {},
     "output_type": "execute_result"
    }
   ],
   "source": [
    "pd_predictions.describe()"
   ]
  },
  {
   "cell_type": "code",
   "execution_count": 37,
   "id": "3f895497",
   "metadata": {},
   "outputs": [
    {
     "data": {
      "text/plain": [
       "(array([ 2310,    88,    28,    31,    21,    18,    20,    24,    40,\n",
       "        15847], dtype=int64),\n",
       " array([0. , 0.1, 0.2, 0.3, 0.4, 0.5, 0.6, 0.7, 0.8, 0.9, 1. ],\n",
       "       dtype=float32))"
      ]
     },
     "execution_count": 37,
     "metadata": {},
     "output_type": "execute_result"
    }
   ],
   "source": [
    "np.histogram(tanh_predictions)"
   ]
  },
  {
   "cell_type": "code",
   "execution_count": 38,
   "id": "511ee1cb",
   "metadata": {},
   "outputs": [
    {
     "data": {
      "text/plain": [
       "<Axes: ylabel='Frequency'>"
      ]
     },
     "execution_count": 38,
     "metadata": {},
     "output_type": "execute_result"
    },
    {
     "data": {
      "image/png": "[encoded data removed]",
      "text/plain": [
       "<Figure size 640x480 with 1 Axes>"
      ]
     },
     "metadata": {},
     "output_type": "display_data"
    }
   ],
   "source": [
    "pd_predictions.plot(kind='hist')"
   ]
  },
  {
   "cell_type": "code",
   "execution_count": 39,
   "id": "9fc42a20",
   "metadata": {},
   "outputs": [
    {
     "data": {
      "text/plain": [
       "<Axes: ylabel='Frequency'>"
      ]
     },
     "execution_count": 39,
     "metadata": {},
     "output_type": "execute_result"
    },
    {
     "data": {
      "image/png": "[encoded data removed]",
      "text/plain": [
       "<Figure size 640x480 with 1 Axes>"
      ]
     },
     "metadata": {},
     "output_type": "display_data"
    }
   ],
   "source": [
    "pd_ismisc = pd.Series(ismisc_full)\n",
    "pd_ismisc.plot(kind='hist')"
   ]
  },
  {
   "cell_type": "code",
   "execution_count": 40,
   "id": "453e573d",
   "metadata": {},
   "outputs": [],
   "source": [
    "from sklearn.metrics import confusion_matrix "
   ]
  },
  {
   "cell_type": "code",
   "execution_count": 41,
   "id": "0e386c26",
   "metadata": {},
   "outputs": [],
   "source": [
    "def classifier_performance(num_points, predictions, lab):\n",
    "    p = np.arange(0,1,1/num_points)\n",
    "    precision = np.empty([num_points,])\n",
    "    recall = np.empty([num_points,])\n",
    "    accuracy = np.empty([num_points,])\n",
    "    f1score = np.empty([num_points,])\n",
    "    mcc = np.empty([num_points,])\n",
    "    for indexp, pi in np.ndenumerate(p):\n",
    "        cm = confusion_matrix(lab, predictions > pi)\n",
    "        precision[indexp] = (cm[1][1]/(cm[1][1] + cm[0][1]))\n",
    "        recall[indexp] = (cm[1][1]/(cm[1][1] + cm[1][0]))\n",
    "        accuracy[indexp] = ((cm[1][1]+cm[0][0])/(cm[1][1] + cm[1][0] + cm[0][0] + cm[0][1]))\n",
    "        f1score[indexp] = (2*precision[indexp]*recall[indexp]/(precision[indexp] + recall[indexp]))\n",
    "        mcc[indexp] = get_mcc(cm[1][1],cm[0][0],cm[0][1],cm[1][0])\n",
    "    return p, precision, recall, accuracy, f1score, mcc"
   ]
  },
  {
   "cell_type": "code",
   "execution_count": 42,
   "id": "ba487f42",
   "metadata": {},
   "outputs": [],
   "source": [
    "def plot_performance(p,prec, rec, acc, f1score, mcc):\n",
    "    fig, (ax1, ax2) = plt.subplots(1,2, figsize=(20,10))\n",
    "    \n",
    "    ax1.plot(p,prec, color='r', label='precision')\n",
    "    ax1.plot(p,rec, color='b', label='recall')\n",
    "    ax1.plot(p,acc, color='black', label='accuracy')\n",
    "    ax1.set_ylabel('Metric value')\n",
    "    ax1.set_xlabel('Probability')\n",
    "    ax1.set_xticks(np.arange(0,1,0.1))\n",
    "    ax1.legend()\n",
    "    \n",
    "    ax = ax2.twinx()\n",
    "    ax2.plot(p,f1score, color='orange', label='F1 score')\n",
    "    ax.plot(p,mcc, color='black', label='MCC')\n",
    "    ax2.set_ylabel('Metric value')\n",
    "    ax2.set_xlabel('Probability')\n",
    "    ax1.set_xticks(np.arange(0,1,0.1))\n",
    "    plt.show()"
   ]
  },
  {
   "cell_type": "code",
   "execution_count": 43,
   "id": "33493962",
   "metadata": {},
   "outputs": [
    {
     "data": {
      "image/png": "[encoded data removed]",
      "text/plain": [
       "<Figure size 2000x1000 with 3 Axes>"
      ]
     },
     "metadata": {},
     "output_type": "display_data"
    }
   ],
   "source": [
    "p, precision, recall, accuracy, f1score, mcc = classifier_performance(1000, tanh_val_predictions, val_lab)\n",
    "plot_performance(p,precision,recall,accuracy,f1score, mcc)"
   ]
  },
  {
   "cell_type": "code",
   "execution_count": 44,
   "id": "25960cfc",
   "metadata": {},
   "outputs": [
    {
     "name": "stdout",
     "output_type": "stream",
     "text": [
      "Accuracy:  0.9978292329956585 425\n",
      "F1 score:  0.9987562189054726 425\n",
      "MCC:  0.9903014450092319 670\n"
     ]
    }
   ],
   "source": [
    "print('Accuracy: ', max(accuracy), np.argmax(accuracy))\n",
    "print('F1 score: ', max(f1score), np.argmax(f1score))\n",
    "print('MCC: ', max(mcc), np.argmax(mcc))"
   ]
  },
  {
   "cell_type": "code",
   "execution_count": 45,
   "id": "771d7c52",
   "metadata": {},
   "outputs": [
    {
     "data": {
      "text/plain": [
       "1.0"
      ]
     },
     "execution_count": 45,
     "metadata": {},
     "output_type": "execute_result"
    }
   ],
   "source": [
    "recall[1]"
   ]
  },
  {
   "cell_type": "code",
   "execution_count": 46,
   "id": "29d04782",
   "metadata": {},
   "outputs": [
    {
     "data": {
      "text/plain": [
       "1.0"
      ]
     },
     "execution_count": 46,
     "metadata": {},
     "output_type": "execute_result"
    }
   ],
   "source": [
    "precision[990]"
   ]
  },
  {
   "cell_type": "code",
   "execution_count": 47,
   "id": "12538492",
   "metadata": {},
   "outputs": [
    {
     "data": {
      "text/plain": [
       "0.9902623530956935"
      ]
     },
     "execution_count": 47,
     "metadata": {},
     "output_type": "execute_result"
    }
   ],
   "source": [
    "mcc[500]"
   ]
  },
  {
   "cell_type": "code",
   "execution_count": 48,
   "id": "17af313b",
   "metadata": {},
   "outputs": [
    {
     "name": "stdout",
     "output_type": "stream",
     "text": [
      "Precision:  1.0 920\n"
     ]
    }
   ],
   "source": [
    "print('Precision: ', max(precision), np.argmax(precision))"
   ]
  },
  {
   "cell_type": "code",
   "execution_count": 49,
   "id": "8d4ec1c8",
   "metadata": {},
   "outputs": [
    {
     "name": "stderr",
     "output_type": "stream",
     "text": [
      "WARNING:absl:Found untraced functions such as _update_step_xla while saving (showing 1 of 1). These functions will not be directly callable after loading.\n"
     ]
    },
    {
     "name": "stdout",
     "output_type": "stream",
     "text": [
      "INFO:tensorflow:Assets written to: Case1_slle\\assets\n"
     ]
    },
    {
     "name": "stderr",
     "output_type": "stream",
     "text": [
      "INFO:tensorflow:Assets written to: Case1_slle\\assets\n"
     ]
    }
   ],
   "source": [
    "tanh_model.save('Case1_slle')"
   ]
  },
  {
   "cell_type": "code",
   "execution_count": null,
   "id": "20dea535",
   "metadata": {},
   "outputs": [],
   "source": []
  }
 ],
 "metadata": {
  "kernelspec": {
   "display_name": "Python 3 (ipykernel)",
   "language": "python",
   "name": "python3"
  },
  "language_info": {
   "codemirror_mode": {
    "name": "ipython",
    "version": 3
   },
   "file_extension": ".py",
   "mimetype": "text/x-python",
   "name": "python",
   "nbconvert_exporter": "python",
   "pygments_lexer": "ipython3",
   "version": "3.9.16"
  }
 },
 "nbformat": 4,
 "nbformat_minor": 5
}
