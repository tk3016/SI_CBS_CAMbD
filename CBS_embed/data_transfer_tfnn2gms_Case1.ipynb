{
 "cells": [
  {
   "cell_type": "code",
   "execution_count": 1,
   "id": "390657e2",
   "metadata": {},
   "outputs": [],
   "source": [
    "%load_ext gams_magic"
   ]
  },
  {
   "cell_type": "code",
   "execution_count": 2,
   "id": "13cfe451",
   "metadata": {},
   "outputs": [],
   "source": [
    "import matplotlib.pyplot as plt\n",
    "import numpy as np\n",
    "import pandas as pd"
   ]
  },
  {
   "cell_type": "code",
   "execution_count": 3,
   "id": "379fad4e",
   "metadata": {},
   "outputs": [
    {
     "name": "stdout",
     "output_type": "stream",
     "text": [
      "2.12.0\n"
     ]
    }
   ],
   "source": [
    "import tensorflow as tf\n",
    "print(tf.__version__)\n",
    "from tensorflow import keras\n",
    "from tensorflow.keras import layers\n",
    "from tensorflow.keras.models import *\n",
    "from tensorflow.keras import backend as K"
   ]
  },
  {
   "cell_type": "code",
   "execution_count": 4,
   "id": "72c50df4",
   "metadata": {},
   "outputs": [],
   "source": [
    "import sys\n",
    "import os\n",
    "import inspect"
   ]
  },
  {
   "cell_type": "code",
   "execution_count": 5,
   "id": "bd72e2ad",
   "metadata": {},
   "outputs": [
    {
     "name": "stdout",
     "output_type": "stream",
     "text": [
      "C:\\Users\\tk3016\\OneDrive - Imperial College London\\PhD\n"
     ]
    }
   ],
   "source": [
    "pwd = os.getcwd()\n",
    "pardir = os.path.abspath(os.path.join(pwd, os.pardir))\n",
    "print(pardir)"
   ]
  },
  {
   "cell_type": "code",
   "execution_count": 116,
   "id": "a0f7fbe4",
   "metadata": {},
   "outputs": [],
   "source": [
    "path = os.path.join(pwd, 'Case1_slle')\n",
    "#tanh_path = os.path.join(pardir,'tanh_model_ib_noT_miL2')\n",
    "#relu_path = os.path.join(pardir,'relu_model_ib_noT_miL2')\n",
    "#rbf_path = os.path.join(pardir,'rbf_model_ib_noT_miL2')"
   ]
  },
  {
   "cell_type": "code",
   "execution_count": 117,
   "id": "4cb7b474",
   "metadata": {},
   "outputs": [
    {
     "name": "stdout",
     "output_type": "stream",
     "text": [
      "Model: \"sequential_36\"\n",
      "_________________________________________________________________\n",
      " Layer (type)                Output Shape              Param #   \n",
      "=================================================================\n",
      " normalization (Normalizatio  (None, 6)                13        \n",
      " n)                                                              \n",
      "                                                                 \n",
      " dense_72 (Dense)            (None, 8)                 56        \n",
      "                                                                 \n",
      " dense_73 (Dense)            (None, 1)                 9         \n",
      "                                                                 \n",
      "=================================================================\n",
      "Total params: 78\n",
      "Trainable params: 65\n",
      "Non-trainable params: 13\n",
      "_________________________________________________________________\n"
     ]
    }
   ],
   "source": [
    "tanh_model = tf.keras.models.load_model(path, compile=False)\n",
    "tanh_model.summary()"
   ]
  },
  {
   "cell_type": "code",
   "execution_count": 118,
   "id": "951e29e9",
   "metadata": {},
   "outputs": [],
   "source": [
    "weights = tanh_model.get_weights()"
   ]
  },
  {
   "cell_type": "code",
   "execution_count": 119,
   "id": "71e2c44c",
   "metadata": {},
   "outputs": [
    {
     "name": "stdout",
     "output_type": "stream",
     "text": [
      "[array([2.58356   , 2.5948727 , 2.7891212 , 2.8963368 , 0.333398  ,\n",
      "       0.33402148], dtype=float32), array([0.5847821 , 0.6174661 , 0.8918795 , 1.4750435 , 0.03240524,\n",
      "       0.03249015], dtype=float32), 12898, array([[ 3.20951056e+00,  1.91556466e+00,  9.72575247e-01,\n",
      "        -1.24344718e+00, -4.00893831e+00, -2.43695521e+00,\n",
      "        -6.37732923e-01, -3.27176285e+00],\n",
      "       [ 1.72401547e+00,  1.70089066e-01,  1.43907535e+00,\n",
      "        -2.14789128e+00, -1.64370537e-01, -7.10331351e-02,\n",
      "        -1.61523187e+00, -1.19967237e-01],\n",
      "       [-7.47406423e-01, -2.43979621e+00, -1.40649784e+00,\n",
      "         3.26730400e-01,  6.09438753e+00,  1.94798338e+00,\n",
      "         1.06608808e+00,  3.86388135e+00],\n",
      "       [ 8.52365434e-01,  1.13742220e+00,  1.27677226e+00,\n",
      "        -1.22907722e+00, -7.84583211e-01, -2.66059637e-01,\n",
      "        -1.94601476e+00, -8.12177002e-01],\n",
      "       [ 1.97248185e+00,  1.22557771e+00,  1.10452306e+00,\n",
      "        -6.65664002e-02, -1.12323254e-01,  3.56652141e-01,\n",
      "         2.64967942e+00,  4.25975263e-01],\n",
      "       [-2.19725633e+00, -9.47228312e-01, -3.89365005e+00,\n",
      "         3.42829657e+00,  3.81026510e-03, -1.77013978e-01,\n",
      "        -2.45976344e-01, -9.86781478e-01]], dtype=float32), array([ 1.8451427 ,  1.9763058 , -0.07703438,  0.09468342, -1.2659398 ,\n",
      "       -2.1905472 , -1.2223705 , -2.2160232 ], dtype=float32), array([[ 4.136224 ],\n",
      "       [ 3.6127055],\n",
      "       [ 3.9071915],\n",
      "       [-4.1957693],\n",
      "       [-7.109919 ],\n",
      "       [-6.1642976],\n",
      "       [-6.084468 ],\n",
      "       [-6.231771 ]], dtype=float32), array([7.184616], dtype=float32)]\n"
     ]
    }
   ],
   "source": [
    "print(weights)"
   ]
  },
  {
   "cell_type": "code",
   "execution_count": 120,
   "id": "f321c1b2",
   "metadata": {},
   "outputs": [],
   "source": [
    "mean = weights[0]\n",
    "sd = weights[1]**0.5"
   ]
  },
  {
   "cell_type": "code",
   "execution_count": 121,
   "id": "6bab96c5",
   "metadata": {},
   "outputs": [
    {
     "name": "stdout",
     "output_type": "stream",
     "text": [
      "[2.58356    2.5948727  2.7891212  2.8963368  0.333398   0.33402148]\n",
      "[0.7647105  0.7857901  0.9443937  1.2145137  0.18001455 0.18025024]\n"
     ]
    }
   ],
   "source": [
    "print(mean)\n",
    "print(sd)"
   ]
  },
  {
   "cell_type": "code",
   "execution_count": 122,
   "id": "4a0ec408",
   "metadata": {},
   "outputs": [
    {
     "name": "stdout",
     "output_type": "stream",
     "text": [
      "[1.3076844  1.2726045  1.0588804  0.82337487 5.5551066  5.547843  ]\n",
      "[2.58356    2.5948727  2.7891212  2.8963368  0.333398   0.33402148]\n"
     ]
    }
   ],
   "source": [
    "input_gain = 1/sd\n",
    "input_offset = mean\n",
    "print(input_gain)\n",
    "print(input_offset)"
   ]
  },
  {
   "cell_type": "code",
   "execution_count": 123,
   "id": "02811b56",
   "metadata": {},
   "outputs": [
    {
     "name": "stdout",
     "output_type": "stream",
     "text": [
      "6\n"
     ]
    }
   ],
   "source": [
    "num_inputs = len(input_gain)\n",
    "print(num_inputs)"
   ]
  },
  {
   "cell_type": "code",
   "execution_count": 124,
   "id": "d93fa549",
   "metadata": {},
   "outputs": [],
   "source": [
    "%%gams\n",
    "SETS\n",
    "f      'inputs to neural network' /1*6/;"
   ]
  },
  {
   "cell_type": "code",
   "execution_count": 125,
   "id": "0d86d2e5",
   "metadata": {},
   "outputs": [],
   "source": [
    "%%gams\n",
    "SETS\n",
    "hl1    'number of hidden layers' /1*8/;"
   ]
  },
  {
   "cell_type": "code",
   "execution_count": 126,
   "id": "095dedc9",
   "metadata": {},
   "outputs": [],
   "source": [
    "%%capture\n",
    "%run DataTransform.ipynb"
   ]
  },
  {
   "cell_type": "code",
   "execution_count": 127,
   "id": "91e6fa45",
   "metadata": {},
   "outputs": [],
   "source": [
    "%gams_pull f hl1"
   ]
  },
  {
   "cell_type": "code",
   "execution_count": 128,
   "id": "181632ff",
   "metadata": {},
   "outputs": [],
   "source": [
    "%%gams\n",
    "parameter input_offset(f), input_gain(f), bias1(hl1), wt2(hl1), wt1(f<,hl1<);"
   ]
  },
  {
   "cell_type": "code",
   "execution_count": 129,
   "id": "288a7d46",
   "metadata": {},
   "outputs": [
    {
     "name": "stdout",
     "output_type": "stream",
     "text": [
      "[2.58356    2.5948727  2.7891212  2.8963368  0.333398   0.33402148]\n",
      "E x e c u t i o n\n",
      "\n",
      "\n",
      "----    626 PARAMETER input_offset  1-dim Matrix\n",
      "\n",
      "1 2.584,    2 2.595,    3 2.789,    4 2.896,    5 0.333,    6 0.334\n",
      "\n",
      "\n",
      "\n",
      "Warning: [WinError 32] The process cannot access the file because it is being used by another process: '_gams_py_gdb100.gdx'\n"
     ]
    }
   ],
   "source": [
    "print(input_offset)\n",
    "%gams_push input_offset\n",
    "%gams display input_offset;\n",
    "%gams_lst -e\n",
    "%gams_cleanup -k"
   ]
  },
  {
   "cell_type": "code",
   "execution_count": 130,
   "id": "50704b8f",
   "metadata": {},
   "outputs": [
    {
     "name": "stdout",
     "output_type": "stream",
     "text": [
      "[1.3076844  1.2726045  1.0588804  0.82337487 5.5551066  5.547843  ]\n",
      "E x e c u t i o n\n",
      "\n",
      "\n",
      "----    632 PARAMETER input_gain  1-dim Matrix\n",
      "\n",
      "1 1.308,    2 1.273,    3 1.059,    4 0.823,    5 5.555,    6 5.548\n",
      "\n",
      "\n",
      "\n",
      "Warning: [WinError 32] The process cannot access the file because it is being used by another process: '_gams_py_gdb100.gdx'\n"
     ]
    }
   ],
   "source": [
    "print(input_gain)\n",
    "%gams_push input_gain\n",
    "%gams display input_gain;\n",
    "%gams_lst -e\n",
    "%gams_cleanup -k"
   ]
  },
  {
   "cell_type": "code",
   "execution_count": 131,
   "id": "90e82940",
   "metadata": {},
   "outputs": [
    {
     "name": "stdout",
     "output_type": "stream",
     "text": [
      "(8,)\n",
      "E x e c u t i o n\n",
      "\n",
      "\n",
      "----    638 PARAMETER bias1  1-dim Matrix\n",
      "\n",
      "1  1.845,    2  1.976,    3 -0.077,    4  0.095,    5 -1.266,    6 -2.191,    7 -1.222,    8 -2.216\n",
      "\n",
      "\n",
      "\n",
      "Warning: [WinError 32] The process cannot access the file because it is being used by another process: '_gams_py_gdb100.gdx'\n"
     ]
    }
   ],
   "source": [
    "bias1 = weights[4]\n",
    "print(bias1.shape)\n",
    "%gams_push bias1\n",
    "%gams display bias1;\n",
    "%gams_lst -e\n",
    "%gams_cleanup -k"
   ]
  },
  {
   "cell_type": "code",
   "execution_count": 132,
   "id": "d7c094b0",
   "metadata": {},
   "outputs": [],
   "source": [
    "%%gams\n",
    "Scalar bias2;"
   ]
  },
  {
   "cell_type": "code",
   "execution_count": 133,
   "id": "75605bfe",
   "metadata": {},
   "outputs": [
    {
     "name": "stdout",
     "output_type": "stream",
     "text": [
      "7.1846160888671875\n",
      "E x e c u t i o n\n",
      "\n",
      "\n",
      "----    648 PARAMETER bias2                =        7.185  \n",
      "\n",
      "\n",
      "Warning: [WinError 32] The process cannot access the file because it is being used by another process: '_gams_py_gdb100.gdx'\n"
     ]
    }
   ],
   "source": [
    "bias2 = weights[6]\n",
    "bias2 = float(bias2[0])\n",
    "print(bias2)\n",
    "%gams_push bias2\n",
    "%gams display bias2;\n",
    "%gams_lst -e\n",
    "%gams_cleanup -k"
   ]
  },
  {
   "cell_type": "code",
   "execution_count": 134,
   "id": "3243408e",
   "metadata": {},
   "outputs": [
    {
     "name": "stdout",
     "output_type": "stream",
     "text": [
      "[[ 4.136224 ]\n",
      " [ 3.6127055]\n",
      " [ 3.9071915]\n",
      " [-4.1957693]\n",
      " [-7.109919 ]\n",
      " [-6.1642976]\n",
      " [-6.084468 ]\n",
      " [-6.231771 ]]\n",
      "(8, 1)\n",
      "(8,)\n",
      "E x e c u t i o n\n",
      "\n",
      "\n",
      "----    654 PARAMETER wt2  1-dim Matrix\n",
      "\n",
      "1  4.136,    2  3.613,    3  3.907,    4 -4.196,    5 -7.110,    6 -6.164,    7 -6.084,    8 -6.232\n",
      "\n",
      "\n",
      "\n",
      "Warning: [WinError 32] The process cannot access the file because it is being used by another process: '_gams_py_gdb100.gdx'\n"
     ]
    }
   ],
   "source": [
    "wt2 = weights[5]\n",
    "print(wt2)\n",
    "print(wt2.shape)\n",
    "wt2 = np.reshape(wt2, (8,))\n",
    "print(wt2.shape)\n",
    "%gams_push wt2\n",
    "%gams display wt2;\n",
    "%gams_lst -e\n",
    "%gams_cleanup -k"
   ]
  },
  {
   "cell_type": "code",
   "execution_count": 135,
   "id": "8d2d1744",
   "metadata": {},
   "outputs": [
    {
     "name": "stdout",
     "output_type": "stream",
     "text": [
      "(6, 8)\n",
      "          1         2         3         4         5         6         7  \\\n",
      "1  3.209511  1.915565  0.972575 -1.243447 -4.008938 -2.436955 -0.637733   \n",
      "2  1.724015  0.170089  1.439075 -2.147891 -0.164371 -0.071033 -1.615232   \n",
      "3 -0.747406 -2.439796 -1.406498  0.326730  6.094388  1.947983  1.066088   \n",
      "4  0.852365  1.137422  1.276772 -1.229077 -0.784583 -0.266060 -1.946015   \n",
      "5  1.972482  1.225578  1.104523 -0.066566 -0.112323  0.356652  2.649679   \n",
      "6 -2.197256 -0.947228 -3.893650  3.428297  0.003810 -0.177014 -0.245976   \n",
      "\n",
      "          8  \n",
      "1 -3.271763  \n",
      "2 -0.119967  \n",
      "3  3.863881  \n",
      "4 -0.812177  \n",
      "5  0.425975  \n",
      "6 -0.986781  \n",
      "E x e c u t i o n\n",
      "\n",
      "\n",
      "----    661 PARAMETER wt1  \n",
      "\n",
      "            1           2           3           4           5           6           7           8\n",
      "\n",
      "1       3.210       1.916       0.973      -1.243      -4.009      -2.437      -0.638      -3.272\n",
      "2       1.724       0.170       1.439      -2.148      -0.164      -0.071      -1.615      -0.120\n",
      "3      -0.747      -2.440      -1.406       0.327       6.094       1.948       1.066       3.864\n",
      "4       0.852       1.137       1.277      -1.229      -0.785      -0.266      -1.946      -0.812\n",
      "5       1.972       1.226       1.105      -0.067      -0.112       0.357       2.650       0.426\n",
      "6      -2.197      -0.947      -3.894       3.428       0.004      -0.177      -0.246      -0.987\n",
      "\n",
      "\n",
      "\n"
     ]
    }
   ],
   "source": [
    "wt1 = weights[3]\n",
    "print(wt1.shape)\n",
    "wt1 = pd.DataFrame(index=f,columns=hl1, data=wt1)\n",
    "print(wt1)\n",
    "wt1 = gt_from2dim(wt1)\n",
    "#print(wt1)\n",
    "%gams_push wt1\n",
    "%gams display wt1;\n",
    "%gams_lst -e\n",
    "%gams_cleanup -k"
   ]
  },
  {
   "cell_type": "code",
   "execution_count": 136,
   "id": "63ec666b",
   "metadata": {},
   "outputs": [],
   "source": [
    "%%gams\n",
    "Free Variables\n",
    "inp(f)\n",
    "inter1v(hl1)\n",
    "inter2v\n",
    "inter1z(hl1)\n",
    "inter2z\n",
    "z\n",
    "obj\n",
    ";\n",
    "\n",
    "Equations\n",
    "eq_inter1v(hl1)\n",
    "eq_inter1z(hl1)\n",
    "eq_inter2v\n",
    "eq_inter2z\n",
    "eq_z\n",
    "eq_obj\n",
    ";\n",
    "\n",
    "eq_inter1v(hl1)..  \t\t\t\t\tinter1v(hl1) =e= sum(f, wt1(f,hl1)*inp(f)) + bias1(hl1);\n",
    "*eq_inter1z(hl1)..  \t\t\t\t\tinter1z(hl1) =e= 1 - (2/(exp(2*inter1v(hl1))+1));\n",
    "eq_inter1z(hl1)..  \t\t\t\t\tinter1z(hl1) =e= tanh(inter1v(hl1));\n",
    "*eq_inter1z(hl1)..                   inter1z(hl1) =e= exp(-inter1v(hl1)*inter1v(hl1));\n",
    "eq_inter2v..     \t\t\t\t\tinter2v =e= sum(hl1, wt2(hl1)*inter1z(hl1)) + bias2;\n",
    "eq_inter2z..     \t\t\t\t\tinter2z =e= 1/(1 + exp(-inter2v));\n",
    "eq_z..                              z =e= inter2z;\n",
    "eq_obj.. obj =e= inter2v;\n",
    "model NN /all/;\n",
    "\n",
    "inter2z.lo = 0;\n",
    "inter2z.up = 1;\n",
    "inp.lo(f) = -10;\n",
    "inp.up(f) = 10;\n",
    "inter1z.lo(hl1) = -1;\n",
    "inter1z.up(hl1) = 1;"
   ]
  },
  {
   "cell_type": "code",
   "execution_count": 137,
   "id": "d9111f7a",
   "metadata": {},
   "outputs": [
    {
     "name": "stdout",
     "output_type": "stream",
     "text": [
      "Warning: [WinError 32] The process cannot access the file because it is being used by another process: '_gams_py_gdb100.gdx'\n"
     ]
    }
   ],
   "source": [
    "%gams_cleanup -k"
   ]
  },
  {
   "cell_type": "code",
   "execution_count": 138,
   "id": "ecd4f224",
   "metadata": {},
   "outputs": [
    {
     "data": {
      "text/html": [
       "<div>\n",
       "<style scoped>\n",
       "    .dataframe tbody tr th:only-of-type {\n",
       "        vertical-align: middle;\n",
       "    }\n",
       "\n",
       "    .dataframe tbody tr th {\n",
       "        vertical-align: top;\n",
       "    }\n",
       "\n",
       "    .dataframe thead th {\n",
       "        text-align: right;\n",
       "    }\n",
       "</style>\n",
       "<table border=\"1\" class=\"dataframe\">\n",
       "  <thead>\n",
       "    <tr style=\"text-align: right;\">\n",
       "      <th></th>\n",
       "      <th>Solver Status</th>\n",
       "      <th>Model Status</th>\n",
       "      <th>Objective</th>\n",
       "      <th>#equ</th>\n",
       "      <th>#var</th>\n",
       "      <th>Model Type</th>\n",
       "      <th>Solver</th>\n",
       "      <th>Solver Time</th>\n",
       "    </tr>\n",
       "  </thead>\n",
       "  <tbody>\n",
       "    <tr>\n",
       "      <th>0</th>\n",
       "      <td>Normal (1)</td>\n",
       "      <td>OptimalLocal (2)</td>\n",
       "      <td>48.627</td>\n",
       "      <td>20</td>\n",
       "      <td>26</td>\n",
       "      <td>NLP</td>\n",
       "      <td>CONOPT</td>\n",
       "      <td>0.062</td>\n",
       "    </tr>\n",
       "  </tbody>\n",
       "</table>\n",
       "</div>"
      ],
      "text/plain": [
       "  Solver Status      Model Status  Objective #equ #var Model Type  Solver  \\\n",
       "0    Normal (1)  OptimalLocal (2)     48.627   20   26        NLP  CONOPT   \n",
       "\n",
       "  Solver Time  \n",
       "0       0.062  "
      ]
     },
     "execution_count": 138,
     "metadata": {},
     "output_type": "execute_result"
    }
   ],
   "source": [
    "%gams solve NN maximising obj using nlp;"
   ]
  },
  {
   "cell_type": "code",
   "execution_count": null,
   "id": "a67e7f30",
   "metadata": {},
   "outputs": [],
   "source": [
    "import gurobipy as gp\n",
    "from gurobipy import GRB\n",
    "from gurobipy import LinExpr"
   ]
  },
  {
   "cell_type": "code",
   "execution_count": null,
   "id": "1a765438",
   "metadata": {},
   "outputs": [],
   "source": [
    "num_layers = 1\n",
    "num_neurons = 5\n",
    "num_inputs = 6\n",
    "LB1_CP = []\n",
    "UB1_CP = []\n",
    "x_lb = -50\n",
    "x_ub = 50\n",
    "wt1= weights[3]\n",
    "b1=weights[4]\n",
    "print(wt1.shape)\n",
    "print(b1.shape)\n",
    "for i in range(num_neurons):\n",
    "    sum_lb = 0\n",
    "    sum_ub = 0\n",
    "    for j in range(num_inputs):\n",
    "    #print(j,i)\n",
    "        sum_lb += ((x_lb*max(0,wt1[j][i])) + (x_ub*min(0,wt1[j][i])))\n",
    "        sum_ub += ((x_ub*max(0,wt1[j][i])) + (x_lb*min(0,wt1[j][i])))\n",
    "    sum_lb += b1[i]\n",
    "    sum_ub += b1[i]\n",
    "    LB1_CP.append(sum_lb)\n",
    "    UB1_CP.append(sum_ub)\n",
    "print(LB1_CP)\n",
    "print(UB1_CP)\n",
    "print(type(LB1_CP[0]))\n",
    "print(type(UB1_CP[0]))"
   ]
  },
  {
   "cell_type": "code",
   "execution_count": null,
   "id": "15e283ce",
   "metadata": {},
   "outputs": [],
   "source": [
    "for i in range(0,len(UB1_CP)):\n",
    "    if UB1_CP[i] < 0:\n",
    "        UB1_CP[i] = 0\n",
    "print(UB1_CP)"
   ]
  },
  {
   "cell_type": "code",
   "execution_count": null,
   "id": "1ef63deb",
   "metadata": {},
   "outputs": [],
   "source": [
    "wt2 = weights[5]\n",
    "b2 = weights[6]\n",
    "print(wt2.shape)\n",
    "print(b2.shape)\n",
    "print(wt2)"
   ]
  },
  {
   "cell_type": "code",
   "execution_count": null,
   "id": "b2b0c7a0",
   "metadata": {},
   "outputs": [],
   "source": [
    "m = gp.Model(\"OBBT\")\n",
    "x = m.addVars (num_inputs, lb=-50.0, ub=50.0, vtype=GRB.CONTINUOUS)\n",
    "inter1z = m.addVars(num_neurons, lb=0, ub=UB1_CP, vtype=GRB.CONTINUOUS)\n",
    "inter1v = m.addVars(num_neurons, lb=LB1_CP, ub=UB1_CP, vtype=GRB.CONTINUOUS)\n",
    "y1 = m.addVars(num_neurons, vtype=GRB.BINARY)\n",
    "inter2v = m.addVar(lb=-10, ub=10, vtype=GRB.CONTINUOUS)\n",
    "lb = [None]*num_neurons\n",
    "ub = [None]*num_neurons\n",
    "linexp = LinExpr()\n",
    "for i in range(num_neurons):\n",
    "    for j in range(num_inputs):\n",
    "        linexp += LinExpr(wt1[j][i],x[j])\n",
    "    linexp += b1[i]\n",
    "    m.addConstr(inter1v[i] - linexp == 0)\n",
    "    m.addConstr(inter1z[i] >= inter1v[i])\n",
    "    m.addConstr(inter1z[i] <= inter1v[i] - (1 - y1[i])*LB1_CP[i])\n",
    "    m.addConstr(inter1z[i] <= y1[i]*UB1_CP[i])\n",
    "linexp1 = LinExpr()\n",
    "for i in range(num_neurons):\n",
    "    linexp1 += LinExpr(wt2[i][0], inter1z[i])\n",
    "linexp1 += b2\n",
    "m.addConstr(inter2v - linexp1 == 0) "
   ]
  },
  {
   "cell_type": "code",
   "execution_count": null,
   "id": "f48d19f3",
   "metadata": {},
   "outputs": [],
   "source": [
    "LB1_0 = [None]*num_neurons\n",
    "UB1_0 = [None]*num_neurons\n",
    "for i in range(num_neurons):\n",
    "    m.setParam('TimeLimit',120)\n",
    "    m.setParam('LogToConsole',1)\n",
    "    m.setObjective(inter1v[i],GRB.MINIMIZE)\n",
    "    m.optimize()\n",
    "    if m.getAttr(GRB.Attr.SolCount) != 0:\n",
    "        if m.getAttr(GRB.Attr.Status) == GRB.OPTIMAL:\n",
    "            lb[i] = m.getAttr(GRB.Attr.ObjVal)\n",
    "        else:\n",
    "            lb[i] = m.getAttr(GRB.Attr.ObjBound)\n",
    "    if lb[i] > LB1_CP[i]:\n",
    "        LB1_0[i] = lb[i]\n",
    "    else:\n",
    "        LB1_0[i] = LB1_CP[i]\n",
    "        print('Improved lower bound not found!')           \n",
    "    m.reset()\n",
    "    m.setObjective(inter1v[i], GRB.MAXIMIZE)\n",
    "    m.optimize()\n",
    "    if m.getAttr(GRB.Attr.SolCount) != 0:\n",
    "        if m.getAttr(GRB.Attr.Status) == GRB.OPTIMAL:\n",
    "            ub[i] = m.getAttr(GRB.Attr.ObjVal)\n",
    "        else:\n",
    "            ub[i] = m.getAttr(GRB.Attr.ObjBound)\n",
    "    if ub[i] < UB1_CP[i]:\n",
    "        UB1_0[i] = ub[i]\n",
    "    else:\n",
    "        UB1_0[i] = UB1_CP[i]\n",
    "        print('Improved upper bound not found!')           \n",
    "    m.reset()"
   ]
  },
  {
   "cell_type": "code",
   "execution_count": null,
   "id": "364b39ee",
   "metadata": {},
   "outputs": [],
   "source": [
    "m = gp.Model(\"OBBT\")\n",
    "x = m.addVars (num_inputs, lb=-50.0, ub=50.0, vtype=GRB.CONTINUOUS)\n",
    "inter1z = m.addVars(num_neurons, lb=0, ub=UB1_0, vtype=GRB.CONTINUOUS)\n",
    "inter1v = m.addVars(num_neurons, lb=LB1_0, ub=UB1_0, vtype=GRB.CONTINUOUS)\n",
    "y1 = m.addVars(num_neurons, vtype=GRB.BINARY)\n",
    "inter2v = m.addVar(lb=-10, ub=10, vtype=GRB.CONTINUOUS)\n",
    "lb = [None]*num_neurons\n",
    "ub = [None]*num_neurons\n",
    "linexp = LinExpr()\n",
    "for i in range(num_neurons):\n",
    "    for j in range(num_inputs):\n",
    "        linexp += LinExpr(wt1[j][i],x[j])\n",
    "    linexp += b1[i]\n",
    "    m.addConstr(inter1v[i] - linexp == 0)\n",
    "    m.addConstr(inter1z[i] >= inter1v[i])\n",
    "    m.addConstr(inter1z[i] <= inter1v[i] - (1 - y1[i])*LB1_CP[i])\n",
    "    m.addConstr(inter1z[i] <= y1[i]*UB1_CP[i])\n",
    "linexp1 = LinExpr()\n",
    "for i in range(num_neurons):\n",
    "    linexp1 += LinExpr(wt2[i][0], inter1z[i])\n",
    "linexp1 += b2\n",
    "m.addConstr(inter2v - linexp1 == 0) "
   ]
  },
  {
   "cell_type": "code",
   "execution_count": null,
   "id": "04ba85fa",
   "metadata": {},
   "outputs": [],
   "source": [
    "x_lb_0 = -50\n",
    "x_ub_0 = 50\n",
    "x_lb_1 = [None]*num_inputs\n",
    "x_ub_1 = [None]*num_inputs\n",
    "x_lb = [None]*num_inputs\n",
    "x_ub = [None]*num_inputs\n",
    "for i in range(num_inputs):\n",
    "    m.setParam('TimeLimit',120)\n",
    "    m.setParam('LogToConsole',0)\n",
    "    m.setObjective(x[i],GRB.MINIMIZE)\n",
    "    m.optimize()\n",
    "    if m.getAttr(GRB.Attr.SolCount) != 0:\n",
    "        if m.getAttr(GRB.Attr.Status) == GRB.OPTIMAL:\n",
    "            x_lb[i] = m.getAttr(GRB.Attr.ObjVal)\n",
    "        else:\n",
    "            x_lb[i] = m.getAttr(GRB.Attr.ObjBound)\n",
    "    if x_lb[i] > x_lb_0:\n",
    "        x_lb_1[i] = x_lb[i]\n",
    "    else:\n",
    "        x_lb_1[i] = x_lb_0\n",
    "        print('Improved lower bound not found!')           \n",
    "    m.reset()\n",
    "    m.setObjective(x[i], GRB.MAXIMIZE)\n",
    "    m.optimize()\n",
    "    if m.getAttr(GRB.Attr.SolCount) != 0:\n",
    "        if m.getAttr(GRB.Attr.Status) == GRB.OPTIMAL:\n",
    "            x_ub[i] = m.getAttr(GRB.Attr.ObjVal)\n",
    "        else:\n",
    "            x_ub[i] = m.getAttr(GRB.Attr.ObjBound)\n",
    "    if x_ub[i] < x_ub_0:\n",
    "        x_ub_1[i] = x_ub[i]\n",
    "    else:\n",
    "        x_ub_1[i] = x_ub_0\n",
    "        print('Improved upper bound not found!')           \n",
    "    m.reset()"
   ]
  },
  {
   "cell_type": "code",
   "execution_count": null,
   "id": "56f1f3dd",
   "metadata": {},
   "outputs": [],
   "source": [
    "print(LB1_0)\n",
    "print(LB1_CP)"
   ]
  },
  {
   "cell_type": "code",
   "execution_count": null,
   "id": "1006af65",
   "metadata": {},
   "outputs": [],
   "source": [
    "print(UB1_0)\n",
    "print(UB1_CP)"
   ]
  },
  {
   "cell_type": "code",
   "execution_count": null,
   "id": "1a13430b",
   "metadata": {},
   "outputs": [],
   "source": [
    "%%gams\n",
    "parameter bigmlb(hl1), bigmub(hl1);"
   ]
  },
  {
   "cell_type": "code",
   "execution_count": null,
   "id": "dcb0e78f",
   "metadata": {},
   "outputs": [],
   "source": [
    "bigmlb = np.array(LB1_0)\n",
    "bigmub = np.array(UB1_0)\n",
    "print(bigmlb.shape)"
   ]
  },
  {
   "cell_type": "code",
   "execution_count": null,
   "id": "1c2b6c17",
   "metadata": {},
   "outputs": [],
   "source": [
    "%gams_push bigmlb\n",
    "%gams display bigmlb;\n",
    "%gams_lst -e\n",
    "%gams_cleanup -k"
   ]
  },
  {
   "cell_type": "code",
   "execution_count": null,
   "id": "574a50fa",
   "metadata": {},
   "outputs": [],
   "source": [
    "%gams_push bigmub\n",
    "%gams display bigmub;\n",
    "%gams_lst -e\n",
    "%gams_cleanup -k"
   ]
  },
  {
   "cell_type": "code",
   "execution_count": null,
   "id": "2188f618",
   "metadata": {},
   "outputs": [],
   "source": []
  }
 ],
 "metadata": {
  "kernelspec": {
   "display_name": "Python 3 (ipykernel)",
   "language": "python",
   "name": "python3"
  },
  "language_info": {
   "codemirror_mode": {
    "name": "ipython",
    "version": 3
   },
   "file_extension": ".py",
   "mimetype": "text/x-python",
   "name": "python",
   "nbconvert_exporter": "python",
   "pygments_lexer": "ipython3",
   "version": "3.9.16"
  }
 },
 "nbformat": 4,
 "nbformat_minor": 5
}
