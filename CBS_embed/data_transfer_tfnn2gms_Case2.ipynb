{
 "cells": [
  {
   "cell_type": "code",
   "execution_count": 1,
   "id": "390657e2",
   "metadata": {},
   "outputs": [],
   "source": [
    "%load_ext gams_magic"
   ]
  },
  {
   "cell_type": "code",
   "execution_count": 2,
   "id": "13cfe451",
   "metadata": {},
   "outputs": [],
   "source": [
    "import matplotlib.pyplot as plt\n",
    "import numpy as np\n",
    "import pandas as pd\n",
    "import seaborn as sns"
   ]
  },
  {
   "cell_type": "code",
   "execution_count": 3,
   "id": "379fad4e",
   "metadata": {},
   "outputs": [
    {
     "name": "stdout",
     "output_type": "stream",
     "text": [
      "2.12.0\n"
     ]
    }
   ],
   "source": [
    "import tensorflow as tf\n",
    "from tensorflow import keras\n",
    "from tensorflow.keras import layers\n",
    "from tensorflow.keras.models import *\n",
    "from tensorflow.keras import backend as K\n",
    "print(tf.__version__)"
   ]
  },
  {
   "cell_type": "code",
   "execution_count": 4,
   "id": "72c50df4",
   "metadata": {},
   "outputs": [],
   "source": [
    "import sys\n",
    "import os\n",
    "import inspect"
   ]
  },
  {
   "cell_type": "code",
   "execution_count": 5,
   "id": "bd72e2ad",
   "metadata": {},
   "outputs": [
    {
     "name": "stdout",
     "output_type": "stream",
     "text": [
      "C:\\Users\\tk3016\\OneDrive - Imperial College London\\PhD\n"
     ]
    }
   ],
   "source": [
    "pwd = os.getcwd()\n",
    "pardir = os.path.abspath(os.path.join(pwd, os.pardir))\n",
    "print(pardir)"
   ]
  },
  {
   "cell_type": "code",
   "execution_count": 58,
   "id": "a0f7fbe4",
   "metadata": {},
   "outputs": [],
   "source": [
    "tanh_path = os.path.join(pwd,'Case2_bin_deep')\n",
    "#relu_path = os.path.join(pardir,'relu_deep_model_ib_noT_miL2')\n",
    "#rbf_path = os.path.join(pardir,'rbf_deep_model_ib_noT_miL2')"
   ]
  },
  {
   "cell_type": "code",
   "execution_count": 59,
   "id": "4cb7b474",
   "metadata": {},
   "outputs": [
    {
     "name": "stdout",
     "output_type": "stream",
     "text": [
      "Model: \"sequential_19\"\n",
      "_________________________________________________________________\n",
      " Layer (type)                Output Shape              Param #   \n",
      "=================================================================\n",
      " normalization (Normalizatio  (None, 7)                15        \n",
      " n)                                                              \n",
      "                                                                 \n",
      " dense_76 (Dense)            (None, 10)                80        \n",
      "                                                                 \n",
      " dense_77 (Dense)            (None, 7)                 77        \n",
      "                                                                 \n",
      " dense_78 (Dense)            (None, 4)                 32        \n",
      "                                                                 \n",
      " dense_79 (Dense)            (None, 1)                 5         \n",
      "                                                                 \n",
      "=================================================================\n",
      "Total params: 209\n",
      "Trainable params: 194\n",
      "Non-trainable params: 15\n",
      "_________________________________________________________________\n"
     ]
    }
   ],
   "source": [
    "tanh_model = tf.keras.models.load_model(tanh_path, compile=False)\n",
    "tanh_model.summary()"
   ]
  },
  {
   "cell_type": "code",
   "execution_count": 60,
   "id": "951e29e9",
   "metadata": {},
   "outputs": [],
   "source": [
    "weights = tanh_model.get_weights()"
   ]
  },
  {
   "cell_type": "code",
   "execution_count": 61,
   "id": "71e2c44c",
   "metadata": {},
   "outputs": [
    {
     "name": "stdout",
     "output_type": "stream",
     "text": [
      "[array([  3.1303713 ,   3.1304212 ,   3.355535  ,   3.3560905 ,\n",
      "         0.33328012,   0.33343843, 305.6317    ], dtype=float32), array([8.7556845e-01, 8.7662667e-01, 1.5693817e+00, 1.5718827e+00,\n",
      "       3.2302596e-02, 3.2337684e-02, 5.2192368e+01], dtype=float32), 160563, array([[ 0.48758188,  0.47273085, -0.03927215, -1.0516748 ,  1.37077   ,\n",
      "         0.8756834 ,  0.13668126,  0.97146744, -2.1373026 ,  0.40723315],\n",
      "       [-2.310114  ,  1.3638446 , -0.09455798,  0.7336488 , -0.42569008,\n",
      "        -0.3198279 , -1.3476624 ,  4.0151463 ,  1.2683836 , -0.58136517],\n",
      "       [-0.8029893 ,  2.8575945 , -0.85216784,  1.7873511 , -3.1723704 ,\n",
      "        -1.6707109 , -0.7943801 ,  0.17557839,  1.2999219 , -1.0089676 ],\n",
      "       [ 2.440909  ,  1.9435128 ,  1.4965845 , -1.0980355 ,  0.45423198,\n",
      "        -0.7906827 ,  0.41826412,  0.12784472, -1.4159364 ,  1.557857  ],\n",
      "       [ 0.44123897,  0.00509824, -0.3819093 ,  0.19909993, -0.56101704,\n",
      "         0.75481784, -0.8227796 , -0.546978  ,  0.1765861 ,  0.25309554],\n",
      "       [-0.56193966,  0.2956095 ,  0.64617205,  0.32426658,  0.08530036,\n",
      "        -0.3042717 ,  0.9920675 ,  0.29908538, -0.5135866 ,  0.27018037],\n",
      "       [-0.02859579,  0.7026361 ,  0.10339767, -0.01838547, -0.03709711,\n",
      "         0.01422342, -0.00724367, -0.03373269, -0.05266073, -0.03338135]],\n",
      "      dtype=float32), array([ 0.17556901,  0.19497332,  1.4498707 , -1.5407517 , -1.2415357 ,\n",
      "       -2.166635  , -0.0826259 , -0.50279963, -0.4173258 , -1.7968918 ],\n",
      "      dtype=float32), array([[-1.2824488 , -2.009424  ,  1.4665421 , -1.8857517 , -1.2865286 ,\n",
      "        -1.5899812 , -2.6026325 ],\n",
      "       [-1.5468882 ,  0.9398891 ,  1.2012885 ,  0.02057032,  1.5222439 ,\n",
      "        -0.00588916, -0.13114224],\n",
      "       [ 1.0898888 ,  0.5285531 ,  0.68462974,  0.40580997, -0.290402  ,\n",
      "        -1.2023658 , -1.7346481 ],\n",
      "       [ 2.1728013 ,  0.14952296, -0.7424482 , -0.5570262 , -1.6736379 ,\n",
      "         0.010198  ,  2.7222369 ],\n",
      "       [ 0.5277544 , -2.7619774 , -1.9060636 ,  1.0194149 , -1.0513407 ,\n",
      "         0.36816934, -0.43835357],\n",
      "       [ 1.1682459 , -0.31831825, -0.45238727,  2.411706  ,  1.1733211 ,\n",
      "        -1.4837255 , -1.2640489 ],\n",
      "       [-0.0539276 ,  0.05284757, -1.7468115 ,  1.4649823 ,  2.3780308 ,\n",
      "        -1.0074488 , -1.113941  ],\n",
      "       [-3.5881393 , -1.6945057 ,  0.46558866,  0.88519686, -1.3976618 ,\n",
      "         0.297863  , -0.7332695 ],\n",
      "       [-3.2529657 ,  0.6832012 , -0.4229334 ,  1.4321184 , -0.42537025,\n",
      "        -1.4970217 ,  3.271863  ],\n",
      "       [-1.7153871 , -1.8634275 , -1.5411813 , -1.1582689 ,  0.26728117,\n",
      "         2.0457    ,  0.06987457]], dtype=float32), array([-0.23994112,  0.5069164 , -0.7771695 , -1.3228065 ,  2.1459296 ,\n",
      "        0.3183383 , -1.1340523 ], dtype=float32), array([[ 2.1169894 ,  0.62098044, -0.6953464 ,  2.1048515 ],\n",
      "       [ 4.3722334 , -1.7044063 ,  1.6582986 , -2.3110123 ],\n",
      "       [ 3.3776515 ,  0.7475413 ,  1.6970975 , -1.1349107 ],\n",
      "       [-2.134733  , -1.8929262 ,  3.4162805 , -3.086441  ],\n",
      "       [-0.6879767 , -1.5911317 ,  0.47357172, -1.3254559 ],\n",
      "       [-1.2614465 ,  0.06286477, -1.6871492 ,  0.83062494],\n",
      "       [ 0.8367759 ,  1.4371327 , -2.7591166 ,  1.5893837 ]],\n",
      "      dtype=float32), array([0.14680763, 0.50290704, 0.16823134, 0.21887384], dtype=float32), array([[ 4.5366607],\n",
      "       [-3.7071018],\n",
      "       [ 8.328455 ],\n",
      "       [-6.095542 ]], dtype=float32), array([1.5872334], dtype=float32)]\n"
     ]
    }
   ],
   "source": [
    "print(weights)"
   ]
  },
  {
   "cell_type": "code",
   "execution_count": 62,
   "id": "f321c1b2",
   "metadata": {},
   "outputs": [],
   "source": [
    "mean = weights[0]\n",
    "sd = weights[1]**0.5"
   ]
  },
  {
   "cell_type": "code",
   "execution_count": 63,
   "id": "6bab96c5",
   "metadata": {},
   "outputs": [
    {
     "name": "stdout",
     "output_type": "stream",
     "text": [
      "[  3.1303713    3.1304212    3.355535     3.3560905    0.33328012\n",
      "   0.33343843 305.6317    ]\n",
      "[0.9357181  0.9362834  1.2527497  1.2537475  0.17972922 0.17982681\n",
      " 7.2244287 ]\n"
     ]
    }
   ],
   "source": [
    "print(mean)\n",
    "print(sd)"
   ]
  },
  {
   "cell_type": "code",
   "execution_count": 64,
   "id": "4a0ec408",
   "metadata": {},
   "outputs": [
    {
     "name": "stdout",
     "output_type": "stream",
     "text": [
      "[1.0686979  1.0680526  0.79824406 0.7976088  5.5639253  5.560906\n",
      " 0.13841926]\n",
      "[  3.1303713    3.1304212    3.355535     3.3560905    0.33328012\n",
      "   0.33343843 305.6317    ]\n"
     ]
    }
   ],
   "source": [
    "input_gain = 1/sd\n",
    "input_offset = mean\n",
    "print(input_gain)\n",
    "print(input_offset)"
   ]
  },
  {
   "cell_type": "code",
   "execution_count": 65,
   "id": "02811b56",
   "metadata": {},
   "outputs": [
    {
     "name": "stdout",
     "output_type": "stream",
     "text": [
      "7\n"
     ]
    }
   ],
   "source": [
    "num_inputs = len(input_gain)\n",
    "print(num_inputs)"
   ]
  },
  {
   "cell_type": "code",
   "execution_count": 40,
   "id": "d93fa549",
   "metadata": {},
   "outputs": [],
   "source": [
    "%%gams\n",
    "SETS\n",
    "f      'inputs to neural network' /1*7/;"
   ]
  },
  {
   "cell_type": "code",
   "execution_count": 66,
   "id": "0d86d2e5",
   "metadata": {},
   "outputs": [],
   "source": [
    "%%gams\n",
    "SETS\n",
    "hl1    'number of hidden neurons in layer 1' /1*10/\n",
    "hl2    'number of hidden neurons in layer 2' /1*7/\n",
    "hl3    'number of hidden neurons in layer 3' /1*4/\n",
    ";"
   ]
  },
  {
   "cell_type": "code",
   "execution_count": 67,
   "id": "095dedc9",
   "metadata": {},
   "outputs": [],
   "source": [
    "%%capture\n",
    "%run DataTransform.ipynb"
   ]
  },
  {
   "cell_type": "code",
   "execution_count": 68,
   "id": "91e6fa45",
   "metadata": {},
   "outputs": [],
   "source": [
    "%gams_pull f hl1 hl2 hl3"
   ]
  },
  {
   "cell_type": "code",
   "execution_count": 69,
   "id": "181632ff",
   "metadata": {},
   "outputs": [],
   "source": [
    "%%gams\n",
    "parameter input_offset(f), input_gain(f), bias1(hl1), bias2(hl2), bias3(hl3), wt4(hl3), wt1(f<,hl1<), wt2(hl1<,hl2<);\n",
    "parameter wt3(hl2<,hl3<);\n",
    "scalar bias4;"
   ]
  },
  {
   "cell_type": "code",
   "execution_count": 70,
   "id": "288a7d46",
   "metadata": {},
   "outputs": [
    {
     "name": "stdout",
     "output_type": "stream",
     "text": [
      "[  3.1303713    3.1304212    3.355535     3.3560905    0.33328012\n",
      "   0.33343843 305.6317    ]\n",
      "E x e c u t i o n\n",
      "\n",
      "\n",
      "----    271 PARAMETER input_offset  1-dim Matrix\n",
      "\n",
      "1   3.130,    2   3.130,    3   3.356,    4   3.356,    5   0.333,    6   0.333,    7 305.632\n",
      "\n",
      "\n",
      "\n"
     ]
    }
   ],
   "source": [
    "print(input_offset)\n",
    "%gams_push input_offset\n",
    "%gams display input_offset;\n",
    "%gams_lst -e\n",
    "%gams_cleanup -k"
   ]
  },
  {
   "cell_type": "code",
   "execution_count": 71,
   "id": "50704b8f",
   "metadata": {},
   "outputs": [
    {
     "name": "stdout",
     "output_type": "stream",
     "text": [
      "[1.0686979  1.0680526  0.79824406 0.7976088  5.5639253  5.560906\n",
      " 0.13841926]\n",
      "E x e c u t i o n\n",
      "\n",
      "\n",
      "----    277 PARAMETER input_gain  1-dim Matrix\n",
      "\n",
      "1 1.069,    2 1.068,    3 0.798,    4 0.798,    5 5.564,    6 5.561,    7 0.138\n",
      "\n",
      "\n",
      "\n"
     ]
    }
   ],
   "source": [
    "print(input_gain)\n",
    "%gams_push input_gain\n",
    "%gams display input_gain;\n",
    "%gams_lst -e\n",
    "%gams_cleanup -k"
   ]
  },
  {
   "cell_type": "code",
   "execution_count": 72,
   "id": "90e82940",
   "metadata": {},
   "outputs": [
    {
     "name": "stdout",
     "output_type": "stream",
     "text": [
      "(10,)\n",
      "E x e c u t i o n\n",
      "\n",
      "\n",
      "----    283 PARAMETER bias1  1-dim Matrix\n",
      "\n",
      "1   0.176,    2   0.195,    3   1.450,    4  -1.541,    5  -1.242,    6  -2.167,    7  -0.083,    8  -0.503,    9  -0.417,    10 -1.797\n",
      "\n",
      "\n",
      "\n"
     ]
    }
   ],
   "source": [
    "bias1 = weights[4]\n",
    "print(bias1.shape)\n",
    "%gams_push bias1\n",
    "%gams display bias1;\n",
    "%gams_lst -e\n",
    "%gams_cleanup -k"
   ]
  },
  {
   "cell_type": "code",
   "execution_count": 73,
   "id": "75605bfe",
   "metadata": {},
   "outputs": [
    {
     "name": "stdout",
     "output_type": "stream",
     "text": [
      "1.5872334241867065\n",
      "<class 'float'>\n",
      "E x e c u t i o n\n",
      "\n",
      "\n",
      "----    290 PARAMETER bias4                =        1.587  \n",
      "\n",
      "\n"
     ]
    }
   ],
   "source": [
    "bias4 = weights[10]\n",
    "bias4 = float(bias4[0])\n",
    "print(bias4)\n",
    "print(type(bias4))\n",
    "%gams_push bias4\n",
    "%gams display bias4;\n",
    "%gams_lst -e\n",
    "%gams_cleanup -k"
   ]
  },
  {
   "cell_type": "code",
   "execution_count": 74,
   "id": "a81f5d69",
   "metadata": {},
   "outputs": [
    {
     "name": "stdout",
     "output_type": "stream",
     "text": [
      "(7,)\n",
      "E x e c u t i o n\n",
      "\n",
      "\n",
      "----    296 PARAMETER bias2  1-dim Matrix\n",
      "\n",
      "1 -0.240,    2  0.507,    3 -0.777,    4 -1.323,    5  2.146,    6  0.318,    7 -1.134\n",
      "\n",
      "\n",
      "\n"
     ]
    }
   ],
   "source": [
    "bias2 = weights[6]\n",
    "print(bias2.shape)\n",
    "%gams_push bias2\n",
    "%gams display bias2;\n",
    "%gams_lst -e\n",
    "%gams_cleanup -k"
   ]
  },
  {
   "cell_type": "code",
   "execution_count": 75,
   "id": "c5ee9996",
   "metadata": {},
   "outputs": [
    {
     "name": "stdout",
     "output_type": "stream",
     "text": [
      "(4,)\n",
      "E x e c u t i o n\n",
      "\n",
      "\n",
      "----    302 PARAMETER bias3  1-dim Matrix\n",
      "\n",
      "1 0.147,    2 0.503,    3 0.168,    4 0.219\n",
      "\n",
      "\n",
      "\n"
     ]
    }
   ],
   "source": [
    "bias3 = weights[8]\n",
    "print(bias3.shape)\n",
    "%gams_push bias3\n",
    "%gams display bias3;\n",
    "%gams_lst -e\n",
    "%gams_cleanup -k"
   ]
  },
  {
   "cell_type": "code",
   "execution_count": 76,
   "id": "3243408e",
   "metadata": {},
   "outputs": [
    {
     "name": "stdout",
     "output_type": "stream",
     "text": [
      "[[ 4.5366607]\n",
      " [-3.7071018]\n",
      " [ 8.328455 ]\n",
      " [-6.095542 ]]\n",
      "(4, 1)\n",
      "(4,)\n",
      "E x e c u t i o n\n",
      "\n",
      "\n",
      "----    308 PARAMETER wt4  1-dim Matrix\n",
      "\n",
      "1  4.537,    2 -3.707,    3  8.328,    4 -6.096\n",
      "\n",
      "\n",
      "\n"
     ]
    }
   ],
   "source": [
    "wt4 = weights[9]\n",
    "print(wt4)\n",
    "print(wt4.shape)\n",
    "wt4 = np.reshape(wt4, (4,))\n",
    "print(wt4.shape)\n",
    "%gams_push wt4\n",
    "%gams display wt4;\n",
    "%gams_lst -e\n",
    "%gams_cleanup -k"
   ]
  },
  {
   "cell_type": "code",
   "execution_count": 77,
   "id": "8d2d1744",
   "metadata": {},
   "outputs": [
    {
     "name": "stdout",
     "output_type": "stream",
     "text": [
      "(7, 10)\n",
      "          1         2         3         4         5         6         7  \\\n",
      "1  0.487582  0.472731 -0.039272 -1.051675  1.370770  0.875683  0.136681   \n",
      "2 -2.310114  1.363845 -0.094558  0.733649 -0.425690 -0.319828 -1.347662   \n",
      "3 -0.802989  2.857594 -0.852168  1.787351 -3.172370 -1.670711 -0.794380   \n",
      "4  2.440909  1.943513  1.496585 -1.098035  0.454232 -0.790683  0.418264   \n",
      "5  0.441239  0.005098 -0.381909  0.199100 -0.561017  0.754818 -0.822780   \n",
      "6 -0.561940  0.295610  0.646172  0.324267  0.085300 -0.304272  0.992068   \n",
      "7 -0.028596  0.702636  0.103398 -0.018385 -0.037097  0.014223 -0.007244   \n",
      "\n",
      "          8         9        10  \n",
      "1  0.971467 -2.137303  0.407233  \n",
      "2  4.015146  1.268384 -0.581365  \n",
      "3  0.175578  1.299922 -1.008968  \n",
      "4  0.127845 -1.415936  1.557857  \n",
      "5 -0.546978  0.176586  0.253096  \n",
      "6  0.299085 -0.513587  0.270180  \n",
      "7 -0.033733 -0.052661 -0.033381  \n",
      "E x e c u t i o n\n",
      "\n",
      "\n",
      "----    315 PARAMETER wt1  \n",
      "\n",
      "            1           2           3           4           5           6           7           8           9          10\n",
      "\n",
      "1       0.488       0.473      -0.039      -1.052       1.371       0.876       0.137       0.971      -2.137       0.407\n",
      "2      -2.310       1.364      -0.095       0.734      -0.426      -0.320      -1.348       4.015       1.268      -0.581\n",
      "3      -0.803       2.858      -0.852       1.787      -3.172      -1.671      -0.794       0.176       1.300      -1.009\n",
      "4       2.441       1.944       1.497      -1.098       0.454      -0.791       0.418       0.128      -1.416       1.558\n",
      "5       0.441       0.005      -0.382       0.199      -0.561       0.755      -0.823      -0.547       0.177       0.253\n",
      "6      -0.562       0.296       0.646       0.324       0.085      -0.304       0.992       0.299      -0.514       0.270\n",
      "7      -0.029       0.703       0.103      -0.018      -0.037       0.014      -0.007      -0.034      -0.053      -0.033\n",
      "\n",
      "\n",
      "\n"
     ]
    }
   ],
   "source": [
    "wt1 = weights[3]\n",
    "print(wt1.shape)\n",
    "wt1 = pd.DataFrame(index=f,columns=hl1, data=wt1)\n",
    "print(wt1)\n",
    "wt1 = gt_from2dim(wt1)\n",
    "#print(wt1)\n",
    "%gams_push wt1\n",
    "%gams display wt1;\n",
    "%gams_lst -e\n",
    "%gams_cleanup -k"
   ]
  },
  {
   "cell_type": "code",
   "execution_count": 78,
   "id": "74eb994b",
   "metadata": {},
   "outputs": [
    {
     "name": "stdout",
     "output_type": "stream",
     "text": [
      "(10, 7)\n",
      "           1         2         3         4         5         6         7\n",
      "1  -1.282449 -2.009424  1.466542 -1.885752 -1.286529 -1.589981 -2.602633\n",
      "2  -1.546888  0.939889  1.201288  0.020570  1.522244 -0.005889 -0.131142\n",
      "3   1.089889  0.528553  0.684630  0.405810 -0.290402 -1.202366 -1.734648\n",
      "4   2.172801  0.149523 -0.742448 -0.557026 -1.673638  0.010198  2.722237\n",
      "5   0.527754 -2.761977 -1.906064  1.019415 -1.051341  0.368169 -0.438354\n",
      "6   1.168246 -0.318318 -0.452387  2.411706  1.173321 -1.483726 -1.264049\n",
      "7  -0.053928  0.052848 -1.746812  1.464982  2.378031 -1.007449 -1.113941\n",
      "8  -3.588139 -1.694506  0.465589  0.885197 -1.397662  0.297863 -0.733270\n",
      "9  -3.252966  0.683201 -0.422933  1.432118 -0.425370 -1.497022  3.271863\n",
      "10 -1.715387 -1.863428 -1.541181 -1.158269  0.267281  2.045700  0.069875\n",
      "E x e c u t i o n\n",
      "\n",
      "\n",
      "----    322 PARAMETER wt2  \n",
      "\n",
      "             1           2           3           4           5           6           7\n",
      "\n",
      "1       -1.282      -2.009       1.467      -1.886      -1.287      -1.590      -2.603\n",
      "2       -1.547       0.940       1.201       0.021       1.522      -0.006      -0.131\n",
      "3        1.090       0.529       0.685       0.406      -0.290      -1.202      -1.735\n",
      "4        2.173       0.150      -0.742      -0.557      -1.674       0.010       2.722\n",
      "5        0.528      -2.762      -1.906       1.019      -1.051       0.368      -0.438\n",
      "6        1.168      -0.318      -0.452       2.412       1.173      -1.484      -1.264\n",
      "7       -0.054       0.053      -1.747       1.465       2.378      -1.007      -1.114\n",
      "8       -3.588      -1.695       0.466       0.885      -1.398       0.298      -0.733\n",
      "9       -3.253       0.683      -0.423       1.432      -0.425      -1.497       3.272\n",
      "10      -1.715      -1.863      -1.541      -1.158       0.267       2.046       0.070\n",
      "\n",
      "\n",
      "\n"
     ]
    }
   ],
   "source": [
    "wt2 = weights[5]\n",
    "print(wt2.shape)\n",
    "wt2 = pd.DataFrame(index=hl1,columns=hl2, data=wt2)\n",
    "print(wt2)\n",
    "wt2 = gt_from2dim(wt2)\n",
    "#print(wt1)\n",
    "%gams_push wt2\n",
    "%gams display wt2;\n",
    "%gams_lst -e\n",
    "%gams_cleanup -k"
   ]
  },
  {
   "cell_type": "code",
   "execution_count": 79,
   "id": "c756feea",
   "metadata": {},
   "outputs": [
    {
     "name": "stdout",
     "output_type": "stream",
     "text": [
      "(7, 4)\n",
      "          1         2         3         4\n",
      "1  2.116989  0.620980 -0.695346  2.104851\n",
      "2  4.372233 -1.704406  1.658299 -2.311012\n",
      "3  3.377651  0.747541  1.697098 -1.134911\n",
      "4 -2.134733 -1.892926  3.416281 -3.086441\n",
      "5 -0.687977 -1.591132  0.473572 -1.325456\n",
      "6 -1.261446  0.062865 -1.687149  0.830625\n",
      "7  0.836776  1.437133 -2.759117  1.589384\n",
      "E x e c u t i o n\n",
      "\n",
      "\n",
      "----    329 PARAMETER wt3  \n",
      "\n",
      "            1           2           3           4\n",
      "\n",
      "1       2.117       0.621      -0.695       2.105\n",
      "2       4.372      -1.704       1.658      -2.311\n",
      "3       3.378       0.748       1.697      -1.135\n",
      "4      -2.135      -1.893       3.416      -3.086\n",
      "5      -0.688      -1.591       0.474      -1.325\n",
      "6      -1.261       0.063      -1.687       0.831\n",
      "7       0.837       1.437      -2.759       1.589\n",
      "\n",
      "\n",
      "\n"
     ]
    }
   ],
   "source": [
    "wt3 = weights[7]\n",
    "print(wt3.shape)\n",
    "wt3 = pd.DataFrame(index=hl2,columns=hl3, data=wt3)\n",
    "print(wt3)\n",
    "wt3 = gt_from2dim(wt3)\n",
    "#print(wt1)\n",
    "%gams_push wt3\n",
    "%gams display wt3;\n",
    "%gams_lst -e\n",
    "%gams_cleanup -k"
   ]
  },
  {
   "cell_type": "code",
   "execution_count": 80,
   "id": "63ec666b",
   "metadata": {},
   "outputs": [],
   "source": [
    "%%gams\n",
    "Free Variables\n",
    "inp(f)\n",
    "inter1v(hl1)\n",
    "inter2v(hl2)\n",
    "inter3v(hl3)\n",
    "inter4v\n",
    "inter1z(hl1)\n",
    "inter2z(hl2)\n",
    "inter3z(hl3)\n",
    "inter4z\n",
    "z\n",
    ";\n",
    "\n",
    "Equations\n",
    "eq_inter1v(hl1)\n",
    "eq_inter1z(hl1)\n",
    "eq_inter2v(hl2)\n",
    "eq_inter2z(hl2)\n",
    "eq_inter3v(hl3)\n",
    "eq_inter3z(hl3)\n",
    "eq_inter4v\n",
    "eq_inter4z\n",
    "eq_z\n",
    ";\n",
    "\n",
    "eq_inter1v(hl1)..  \t\t\t\t\tinter1v(hl1) =e= sum(f, wt1(f,hl1)*inp(f)) + bias1(hl1);\n",
    "eq_inter1z(hl1)..  \t\t\t\t\tinter1z(hl1) =e= 1 - (2/(exp(2*inter1v(hl1))+1));\n",
    "*eq_inter1z(hl1)..                   inter1z(hl1) =e= exp(-inter1v(hl1)*inter1v(hl1));\n",
    "\n",
    "eq_inter2v(hl2)..  \t\t\t\t\tinter2v(hl2) =e= sum(hl1, wt2(hl1,hl2)*inter1z(hl1)) + bias2(hl2);\n",
    "eq_inter2z(hl2)..  \t\t\t\t\tinter2z(hl2) =e= 1 - (2/(exp(2*inter2v(hl2))+1));\n",
    "*eq_inter2z(hl2)..                   inter2z(hl2) =e= exp(-inter2v(hl2)*inter2v(hl2));\n",
    "\n",
    "eq_inter3v(hl3)..  \t\t\t\t\tinter3v(hl3) =e= sum(hl2, wt3(hl2,hl3)*inter2z(hl2)) + bias3(hl3);\n",
    "eq_inter3z(hl3)..  \t\t\t\t\tinter3z(hl3) =e= 1 - (2/(exp(2*inter3v(hl3))+1));\n",
    "*eq_inter3z(hl3)..                   inter3z(hl3) =e= exp(-inter3v(hl3)*inter3v(hl3));\n",
    "\n",
    "eq_inter4v..     \t\t\t\t\tinter4v =e= sum(hl3, wt4(hl3)*inter3z(hl3)) + bias4;\n",
    "eq_inter4z..     \t\t\t\t\tinter4z =e= 1/(1 + exp(-inter4v));\n",
    "eq_z..                              z =e= inter4z;\n",
    "model NN /all/;"
   ]
  },
  {
   "cell_type": "code",
   "execution_count": 81,
   "id": "d9111f7a",
   "metadata": {},
   "outputs": [],
   "source": [
    "%gams_cleanup -k"
   ]
  },
  {
   "cell_type": "code",
   "execution_count": 82,
   "id": "ecd4f224",
   "metadata": {},
   "outputs": [
    {
     "data": {
      "text/html": [
       "<div>\n",
       "<style scoped>\n",
       "    .dataframe tbody tr th:only-of-type {\n",
       "        vertical-align: middle;\n",
       "    }\n",
       "\n",
       "    .dataframe tbody tr th {\n",
       "        vertical-align: top;\n",
       "    }\n",
       "\n",
       "    .dataframe thead th {\n",
       "        text-align: right;\n",
       "    }\n",
       "</style>\n",
       "<table border=\"1\" class=\"dataframe\">\n",
       "  <thead>\n",
       "    <tr style=\"text-align: right;\">\n",
       "      <th></th>\n",
       "      <th>Solver Status</th>\n",
       "      <th>Model Status</th>\n",
       "      <th>Objective</th>\n",
       "      <th>#equ</th>\n",
       "      <th>#var</th>\n",
       "      <th>Model Type</th>\n",
       "      <th>Solver</th>\n",
       "      <th>Solver Time</th>\n",
       "    </tr>\n",
       "  </thead>\n",
       "  <tbody>\n",
       "    <tr>\n",
       "      <th>0</th>\n",
       "      <td>Normal (1)</td>\n",
       "      <td>OptimalLocal (2)</td>\n",
       "      <td>15.1817</td>\n",
       "      <td>45</td>\n",
       "      <td>52</td>\n",
       "      <td>NLP</td>\n",
       "      <td>CONOPT</td>\n",
       "      <td>0</td>\n",
       "    </tr>\n",
       "  </tbody>\n",
       "</table>\n",
       "</div>"
      ],
      "text/plain": [
       "  Solver Status      Model Status  Objective #equ #var Model Type  Solver  \\\n",
       "0    Normal (1)  OptimalLocal (2)    15.1817   45   52        NLP  CONOPT   \n",
       "\n",
       "  Solver Time  \n",
       "0           0  "
      ]
     },
     "execution_count": 82,
     "metadata": {},
     "output_type": "execute_result"
    }
   ],
   "source": [
    "%gams solve NN max inter4v using nlp;"
   ]
  },
  {
   "cell_type": "code",
   "execution_count": null,
   "id": "a67e7f30",
   "metadata": {},
   "outputs": [],
   "source": [
    "import gurobipy as gp\n",
    "from gurobipy import GRB\n",
    "from gurobipy import LinExpr"
   ]
  },
  {
   "cell_type": "code",
   "execution_count": null,
   "id": "1a765438",
   "metadata": {},
   "outputs": [],
   "source": [
    "num_inputs = 6\n",
    "num_neurons1 = 2\n",
    "num_neurons2 = 1\n",
    "num_neurons3 = 5\n",
    "LB1_CP = []\n",
    "UB1_CP = []\n",
    "x_lb = -50\n",
    "x_ub = 50\n",
    "wt1=weights[3]\n",
    "b1=weights[4]\n",
    "wt2=weights[5]\n",
    "b2=weights[6]\n",
    "wt3=weights[7]\n",
    "b3=weights[8]\n",
    "wt4=weights[9]\n",
    "b4=weights[10]\n",
    "for i in range(num_neurons1):\n",
    "    sum_lb = 0\n",
    "    sum_ub = 0\n",
    "    for j in range(num_inputs):\n",
    "    #print(j,i)\n",
    "        sum_lb += ((x_lb*max(0,wt1[j][i])) + (x_ub*min(0,wt1[j][i])))\n",
    "        sum_ub += ((x_ub*max(0,wt1[j][i])) + (x_lb*min(0,wt1[j][i])))\n",
    "    sum_lb += b1[i]\n",
    "    sum_ub += b1[i]\n",
    "    LB1_CP.append(sum_lb)\n",
    "    UB1_CP.append(sum_ub)\n",
    "LB2_CP = []\n",
    "UB2_CP = []\n",
    "for i in range(num_neurons2):\n",
    "    sum_lb = 0\n",
    "    sum_ub = 0\n",
    "    for j in range(num_neurons1):\n",
    "        sum_lb += ((LB1_CP[j]*max(0,wt2[j][i])) + (UB1_CP[j]*min(0,wt2[j][i])))\n",
    "        sum_ub += ((UB1_CP[j]*max(0,wt2[j][i])) + (LB1_CP[j]*min(0,wt2[j][i])))\n",
    "    sum_lb += b2[i]\n",
    "    sum_ub += b2[i]\n",
    "    LB2_CP.append(sum_lb)\n",
    "    UB2_CP.append(sum_ub)\n",
    "LB3_CP = []\n",
    "UB3_CP = []\n",
    "for i in range(num_neurons3):\n",
    "    sum_lb = 0\n",
    "    sum_ub = 0\n",
    "    for j in range(num_neurons2):\n",
    "        sum_lb += ((LB2_CP[j]*max(0,wt3[j][i])) + (UB2_CP[j]*min(0,wt3[j][i])))\n",
    "        sum_ub += ((UB2_CP[j]*max(0,wt3[j][i])) + (LB2_CP[j]*min(0,wt3[j][i])))\n",
    "    sum_lb += b3[i]\n",
    "    sum_ub += b3[i]\n",
    "    LB3_CP.append(sum_lb)\n",
    "    UB3_CP.append(sum_ub)\n",
    "print(LB1_CP)\n",
    "print(UB1_CP)\n",
    "print(LB2_CP)\n",
    "print(UB2_CP)\n",
    "print(LB3_CP)\n",
    "print(UB3_CP)"
   ]
  },
  {
   "cell_type": "code",
   "execution_count": null,
   "id": "274d04e9",
   "metadata": {},
   "outputs": [],
   "source": [
    "for i in range(0,len(UB1_CP)):\n",
    "    if UB1_CP[i] < 0:\n",
    "        UB1_CP[i] = 0\n",
    "for i in range(0,len(UB2_CP)):\n",
    "    if UB2_CP[i] < 0:\n",
    "        UB2_CP[i] = 0  \n",
    "for i in range(0,len(UB3_CP)):\n",
    "    if UB3_CP[i] < 0:\n",
    "        UB3_CP[i] = 0\n",
    "print(UB1_CP)\n",
    "print(UB2_CP)\n",
    "print(UB3_CP)"
   ]
  },
  {
   "cell_type": "code",
   "execution_count": null,
   "id": "3fa68be5",
   "metadata": {},
   "outputs": [],
   "source": [
    "def check_isequal(lb, ub):\n",
    "    length = len(lb)\n",
    "    check = False\n",
    "    count = 0\n",
    "    for i in range(length):\n",
    "        if lb[i] == ub[i]:\n",
    "            count += 1\n",
    "    if count == length:\n",
    "        check=True\n",
    "    return check"
   ]
  },
  {
   "cell_type": "code",
   "execution_count": null,
   "id": "4668274f",
   "metadata": {},
   "outputs": [],
   "source": [
    "def process_bounds(lb,ub):\n",
    "    length = len(lb)\n",
    "    LB=[None]*length\n",
    "    UB=[None]*length\n",
    "    check=check_isequal(lb,ub)\n",
    "    if check == True:\n",
    "        LB = 0\n",
    "        UB = 0\n",
    "    else:\n",
    "        LB = lb\n",
    "        UB = ub\n",
    "    return LB, UB"
   ]
  },
  {
   "cell_type": "code",
   "execution_count": null,
   "id": "7ebb866e",
   "metadata": {},
   "outputs": [],
   "source": [
    "LB1_CP, UB1_CP = process_bounds(LB1_CP, UB1_CP)\n",
    "LB2_CP, UB2_CP = process_bounds(LB2_CP, UB2_CP)\n",
    "LB3_CP, UB3_CP = process_bounds(LB3_CP, UB3_CP)"
   ]
  },
  {
   "cell_type": "code",
   "execution_count": null,
   "id": "1a13430b",
   "metadata": {},
   "outputs": [],
   "source": [
    "%%gams\n",
    "parameter bigm1lb(hl1), bigm1ub(hl1), bigm2lb(hl2), bigm2ub(hl2), bigm3lb(hl3), bigm3ub(hl3);"
   ]
  },
  {
   "cell_type": "code",
   "execution_count": null,
   "id": "b71a1f04",
   "metadata": {},
   "outputs": [],
   "source": [
    "def OBBT(n1, n2, lb1, lb2, ub1, ub2, w, b):\n",
    "    m = gp.Model(\"OBBT\")\n",
    "    x = m.addVars (n1, lb=lb1, ub=ub1, vtype=GRB.CONTINUOUS, name=\"input\")\n",
    "    interz = m.addVars(n2, lb=0, ub=ub2, vtype=GRB.CONTINUOUS, name=\"interz\")\n",
    "    interv = m.addVars(n2, lb=lb2, ub=ub2, vtype=GRB.CONTINUOUS, name=\"interv\")\n",
    "    y = m.addVars(n2, vtype=GRB.BINARY)\n",
    "    linexp = LinExpr()\n",
    "    for i in range(n2):\n",
    "        for j in range(n1):\n",
    "            linexp += LinExpr(w[j][i],x[j])\n",
    "        linexp += b[i]\n",
    "    m.addConstr(interv[i] - linexp == 0)\n",
    "    m.addConstr(interz[i] >= interv[i])\n",
    "    m.addConstr(interz[i] <= interv[i] - (1 - y[i])*lb2[i])\n",
    "    m.addConstr(interz[i] <= y[i]*ub2[i])\n",
    "    UB2 = [None]*n2\n",
    "    LB2 = [None]*n2\n",
    "    lb = [None]*n2\n",
    "    ub = [None]*n2\n",
    "    for i in range(n2):\n",
    "        m.setParam('TimeLimit',120)\n",
    "        m.setParam('LogToConsole',0)\n",
    "        m.setObjective(interv[i],GRB.MINIMIZE)\n",
    "        m.optimize()\n",
    "        if m.getAttr(GRB.Attr.SolCount) != 0:\n",
    "            if m.getAttr(GRB.Attr.Status) == GRB.OPTIMAL:\n",
    "                lb[i] = m.getAttr(GRB.Attr.ObjVal)\n",
    "            else:\n",
    "                lb[i] = m.getAttr(GRB.Attr.ObjBound)\n",
    "            if lb[i] > lb2[i]:\n",
    "                LB2[i] = lb[i]\n",
    "            else:\n",
    "                LB2[i] = lb2[i]\n",
    "                print('Improved lower bound not found!')\n",
    "        else:\n",
    "            LB2[i] = lb2[i]\n",
    "            print('Improved lower bound not found!')\n",
    "        m.reset()\n",
    "        m.setObjective(interv[i], GRB.MAXIMIZE)\n",
    "        m.optimize()\n",
    "        if m.getAttr(GRB.Attr.SolCount) != 0:\n",
    "            if m.getAttr(GRB.Attr.Status) == GRB.OPTIMAL:\n",
    "                ub[i] = m.getAttr(GRB.Attr.ObjVal)\n",
    "            else:\n",
    "                ub[i] = m.getAttr(GRB.Attr.ObjBound)\n",
    "            if ub[i] < ub2[i]:\n",
    "                UB2[i] = ub[i]\n",
    "            else:\n",
    "                UB2[i] = ub2[i]\n",
    "                print('Improved upper bound not found!') \n",
    "        else:\n",
    "            UB2[i] = ub2[i]\n",
    "            print('Improved upper bound not found!') \n",
    "        #m.computeIIS()\n",
    "        #m.write(\"infeas.ilp\")\n",
    "        m.reset()\n",
    "    return LB2, UB2"
   ]
  },
  {
   "cell_type": "code",
   "execution_count": null,
   "id": "56651856",
   "metadata": {},
   "outputs": [],
   "source": [
    "LB1_0, UB1_0 = OBBT(num_inputs, num_neurons1, -50, LB1_CP, 50, UB1_CP, wt1, b1)\n",
    "print(LB1_CP, UB1_CP)\n",
    "print(LB1_0, UB1_0)"
   ]
  },
  {
   "cell_type": "code",
   "execution_count": null,
   "id": "4a44e47d",
   "metadata": {},
   "outputs": [],
   "source": [
    "LB2_0, UB2_0 = OBBT(num_neurons1, num_neurons2, 0, LB2_CP, UB1_0, UB2_CP, wt2, b2)\n",
    "print(LB2_CP, UB2_CP)\n",
    "print(LB2_0, UB2_0)"
   ]
  },
  {
   "cell_type": "code",
   "execution_count": null,
   "id": "05f4e88f",
   "metadata": {},
   "outputs": [],
   "source": [
    "LB3_0, UB3_0 = OBBT(num_neurons2, num_neurons3, 0, LB3_CP, UB2_0, UB3_CP, wt3, b3)\n",
    "print(LB3_CP, UB3_CP)\n",
    "print(LB3_0, UB3_0)"
   ]
  },
  {
   "cell_type": "code",
   "execution_count": null,
   "id": "d5e8fec3",
   "metadata": {},
   "outputs": [],
   "source": [
    "bigm1lb = np.array(LB1_0)\n",
    "bigm1ub = np.array(UB1_0)\n",
    "bigm2lb = np.array(LB2_0)\n",
    "bigm2ub = np.array(UB2_0)\n",
    "bigm3lb = np.array(LB3_0)\n",
    "bigm3ub = np.array(UB3_0)"
   ]
  },
  {
   "cell_type": "code",
   "execution_count": null,
   "id": "1da797a4",
   "metadata": {},
   "outputs": [],
   "source": [
    "%gams_push bigm1lb\n",
    "%gams display bigm1lb;\n",
    "%gams_lst -e\n",
    "%gams_cleanup -k\n",
    "%gams_push bigm1ub\n",
    "%gams display bigm1ub;\n",
    "%gams_lst -e\n",
    "%gams_cleanup -k\n",
    "%gams_push bigm2lb\n",
    "%gams display bigm2lb;\n",
    "%gams_lst -e\n",
    "%gams_cleanup -k\n",
    "%gams_push bigm2ub\n",
    "%gams display bigm2ub;\n",
    "%gams_lst -e\n",
    "%gams_cleanup -k\n",
    "%gams_push bigm3lb\n",
    "%gams display bigm3lb;\n",
    "%gams_lst -e\n",
    "%gams_cleanup -k\n",
    "%gams_push bigm3ub\n",
    "%gams display bigm3ub;\n",
    "%gams_lst -e\n",
    "%gams_cleanup -k"
   ]
  },
  {
   "cell_type": "code",
   "execution_count": null,
   "id": "e0d37754",
   "metadata": {},
   "outputs": [],
   "source": []
  }
 ],
 "metadata": {
  "kernelspec": {
   "display_name": "Python 3 (ipykernel)",
   "language": "python",
   "name": "python3"
  },
  "language_info": {
   "codemirror_mode": {
    "name": "ipython",
    "version": 3
   },
   "file_extension": ".py",
   "mimetype": "text/x-python",
   "name": "python",
   "nbconvert_exporter": "python",
   "pygments_lexer": "ipython3",
   "version": "3.9.16"
  }
 },
 "nbformat": 4,
 "nbformat_minor": 5
}
