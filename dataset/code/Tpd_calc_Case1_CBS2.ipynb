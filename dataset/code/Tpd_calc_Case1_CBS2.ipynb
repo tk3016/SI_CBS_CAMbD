{
 "cells": [
  {
   "cell_type": "code",
   "execution_count": 1,
   "id": "0d6592da",
   "metadata": {},
   "outputs": [],
   "source": [
    "import pandas as pd\n",
    "from phasepy import mixture, component, virialgamma, preos\n",
    "from phasepy.equilibrium import tpd_min, tpd_minimas, lle_init\n",
    "import itertools\n",
    "import numpy as np\n",
    "from scipy.stats import qmc\n",
    "import matplotlib.pyplot as plt\n",
    "import csv\n",
    "import time"
   ]
  },
  {
   "cell_type": "code",
   "execution_count": 2,
   "id": "5b353cfa",
   "metadata": {},
   "outputs": [],
   "source": [
    "methanol = component(name='methanol', Tc=512.5, Pc=80.84, Zc=0.222, Vc=117, GC={'CH3OH':1})\n",
    "ethanol = component(name='ethanol', Tc=514, Pc=61.37, Zc=0.241, Vc=168, GC={'CH3':1, 'CH2':1, 'OH':1})\n",
    "_2propanol = component(name='2-propanol', Tc=508.3, Pc=47.65, Zc=0.25, Vc=222, GC={'CH3':2, 'CH':1, 'OH':1})\n",
    "acetone = component(name='acetone', Tc=508.1, Pc=47, Zc=0.237, Vc=213, GC={'CH3CO':1, 'CH3':1})\n",
    "mibk = component(name='mibk', Tc=574.6, Pc=32.7, Zc=0.256, Vc=317, GC={'CH3CO':1, 'CH3':2, 'CH2':1, 'CH':1})\n",
    "ethac = component(name='ethyl-acetate', Tc=523.3, Pc=38.8, Zc=0.255, Vc=286, GC={'CH3COO':1, 'CH3':1, 'CH2':1})\n",
    "chloroform = component(name='chloroform', Tc=536.4, Pc=54.72, Zc=0.293, Vc=239, GC={'CHCL3':1})\n",
    "toluene = component(name='toluene', Tc=591.75, Pc=41.08, Zc=0.264, Vc=316, GC={'ACH':5, 'ACCH3':1})\n",
    "water = component(name='water', Tc=647.096, Pc=220.64, Zc=0.229, Vc=55.9472,GC={'H2O':1})\n",
    "ibuprofen = component(name='ibuprofen', Tc=765, Pc=29.8, Zc=0.313, Vc=668,\n",
    "                      GC={'CH3':3, 'CH':1, 'ACH':4, 'ACCH2':1, 'ACCH':1, 'COOH':1},\n",
    "                      dHf=25500, Tf=347.15)"
   ]
  },
  {
   "cell_type": "code",
   "execution_count": 3,
   "id": "7c183237",
   "metadata": {},
   "outputs": [],
   "source": [
    "component_map = {\"methanol\" : methanol, \"ethanol\" : ethanol, \"2-propanol\" : _2propanol, \"acetone\" : acetone,\n",
    "                 \"mibk\" : mibk, \"ethyl-acetate\": ethac, \"chloroform\" : chloroform, \"toluene\": toluene,\n",
    "                 \"water\" : water}"
   ]
  },
  {
   "cell_type": "code",
   "execution_count": 4,
   "id": "75799913",
   "metadata": {},
   "outputs": [],
   "source": [
    "component_list = [methanol,ethanol,_2propanol,acetone,mibk,ethac,chloroform,toluene,water]\n",
    "binary_mix = itertools.combinations(component_list, 2)"
   ]
  },
  {
   "cell_type": "code",
   "execution_count": 5,
   "id": "b1e7670d",
   "metadata": {},
   "outputs": [],
   "source": [
    "def return_eos(c1,c2):\n",
    "    mix_func = mixture(c1,c2)\n",
    "    mix_func += ibuprofen\n",
    "    mix_func.original_unifac()\n",
    "    eos = virialgamma(mix_func, virialmodel='ideal_gas', actmodel='original_unifac')\n",
    "    return eos"
   ]
  },
  {
   "cell_type": "code",
   "execution_count": 6,
   "id": "bc1de1f2",
   "metadata": {},
   "outputs": [
    {
     "name": "stdout",
     "output_type": "stream",
     "text": [
      "CPU times: total: 3.81 s\n",
      "Wall time: 4.21 s\n"
     ]
    }
   ],
   "source": [
    "%%time\n",
    "eos_dict = {}\n",
    "counter=0\n",
    "for i in binary_mix:\n",
    "    eos = return_eos(i[0],i[1])\n",
    "    eos_dict[counter] = eos\n",
    "    counter+=1"
   ]
  },
  {
   "cell_type": "code",
   "execution_count": 7,
   "id": "4ec5d4c6",
   "metadata": {},
   "outputs": [],
   "source": [
    "df = pd.read_csv('Case1.csv')"
   ]
  },
  {
   "cell_type": "code",
   "execution_count": 8,
   "id": "583ae746",
   "metadata": {},
   "outputs": [],
   "source": [
    "df_part = pd.read_csv('Case1.csv', nrows=512)\n",
    "z1 = df_part['x1']\n",
    "z2 = df_part['x2']\n",
    "z3 = 1 - z1 - z2\n",
    "z = np.column_stack((z1, z2, z3))\n",
    "T = df_part['T']"
   ]
  },
  {
   "cell_type": "code",
   "execution_count": 9,
   "id": "55574658",
   "metadata": {},
   "outputs": [
    {
     "name": "stdout",
     "output_type": "stream",
     "text": [
      "Execution time: 370.4925887584686 seconds\n"
     ]
    }
   ],
   "source": [
    "st = time.time()  # start timer\n",
    "nmin = 3\n",
    "P = 1.01325\n",
    "\n",
    "ismisc_list = []\n",
    "for i in eos_dict:\n",
    "    for j in range(512):\n",
    "        tpd_m = tpd_minimas(nmin, z[j], T[j], P, eos_dict[i], stateW='L', stateZ='L')\n",
    "        tpd_values = tpd_m[-1]  # outputs nmin TPD values\n",
    "        min_tpd_value = np.min(tpd_values, axis=0)  # minimum TPD values\n",
    "        ismisc = np.where(min_tpd_value < -1e-6, 0, 1)\n",
    "        ismisc_list.append(ismisc)\n",
    "    #min_tpd_value_index = np.argmin(tpd_values, axis=0)  # indexes the minimum TPD values\n",
    "    #tpd_m_w = tpd_m[0][np.arange(len(df)), min_tpd_value_index].tolist()  # converts type from array to list\n",
    "\n",
    "    #master_list = np.column_stack((T, mix_func.names[0], mix_func.names[1], z1, z2, min_tpd_value, ismisc)).tolist()\n",
    "\n",
    "et = time.time()\n",
    "elapsed_time = et - st\n",
    "print('Execution time:', elapsed_time, 'seconds')  # execution time"
   ]
  },
  {
   "cell_type": "code",
   "execution_count": 10,
   "id": "59d23e23",
   "metadata": {},
   "outputs": [
    {
     "name": "stdout",
     "output_type": "stream",
     "text": [
      "18432\n"
     ]
    }
   ],
   "source": [
    "print(len(ismisc_list))"
   ]
  },
  {
   "cell_type": "code",
   "execution_count": 11,
   "id": "14f6c5a2",
   "metadata": {},
   "outputs": [],
   "source": [
    "df['ismisc']=ismisc_list"
   ]
  },
  {
   "cell_type": "code",
   "execution_count": 12,
   "id": "28a171d4",
   "metadata": {},
   "outputs": [],
   "source": [
    "df.to_csv('Case1_tpd_calc_lle.csv')"
   ]
  },
  {
   "cell_type": "code",
   "execution_count": null,
   "id": "bb394a55",
   "metadata": {},
   "outputs": [],
   "source": []
  }
 ],
 "metadata": {
  "kernelspec": {
   "display_name": "Python 3 (ipykernel)",
   "language": "python",
   "name": "python3"
  },
  "language_info": {
   "codemirror_mode": {
    "name": "ipython",
    "version": 3
   },
   "file_extension": ".py",
   "mimetype": "text/x-python",
   "name": "python",
   "nbconvert_exporter": "python",
   "pygments_lexer": "ipython3",
   "version": "3.9.12"
  }
 },
 "nbformat": 4,
 "nbformat_minor": 5
}
