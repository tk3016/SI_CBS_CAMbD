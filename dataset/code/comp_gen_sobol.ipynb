{
 "cells": [
  {
   "cell_type": "code",
   "execution_count": 1,
   "id": "4cb03ff1",
   "metadata": {},
   "outputs": [],
   "source": [
    "import pandas as pd\n",
    "from scipy.stats import qmc\n",
    "import random\n",
    "import time\n",
    "from phasepy import mixture, component, virialgamma, preos\n",
    "from phasepy.equilibrium import tpd_min, tpd_minimas, lle_init\n",
    "import itertools"
   ]
  },
  {
   "cell_type": "code",
   "execution_count": 2,
   "id": "9a7b71d4",
   "metadata": {},
   "outputs": [],
   "source": [
    "qs = {\n",
    "    \"methanol\" : 1.4320,\n",
    "    \"ethanol\" : 2.5880,\n",
    "    \"2-propanol\" : 3.1240,\n",
    "    \"acetone\" : 2.3360,\n",
    "    \"mibk\" : 3.9520,\n",
    "    \"ethyl-acetate\" : 3.1160,\n",
    "    \"chloroform\" : 2.41,\n",
    "    \"toluene\" : 2.9680,\n",
    "    \"water\" : 1.4,\n",
    "    \"n-pentane\" : 3.316,\n",
    "    \"n-heptane\" : 4.396,\n",
    "    \"1-propanol\" : 3.128,\n",
    "    \"1-pentanol\" : 4.208,\n",
    "    \"1-butanol\" : 3.668,\n",
    "}\n",
    "\n",
    "rs = {\n",
    "    \"methanol\" : 1.4311,\n",
    "    \"ethanol\" : 2.5755,\n",
    "    \"2-propanol\" : 3.2491,\n",
    "    \"acetone\" : 2.5735,\n",
    "    \"mibk\" : 4.5959,\n",
    "    \"ethyl-acetate\" : 3.4786,\n",
    "    \"chloroform\" : 2.87,\n",
    "    \"toluene\" : 3.9228,\n",
    "    \"water\" : 0.92,\n",
    "    \"n-pentane\" : 3.8254,\n",
    "    \"n-heptane\" : 5.1742,\n",
    "    \"1-propanol\" : 3.2499,\n",
    "    \"1-pentanol\" : 4.5987,\n",
    "    \"1-butanol\" : 3.9243,\n",
    "}"
   ]
  },
  {
   "cell_type": "code",
   "execution_count": 3,
   "id": "c0a5ff53",
   "metadata": {},
   "outputs": [],
   "source": [
    "inv_qs = dict(map(reversed, qs.items()))"
   ]
  },
  {
   "cell_type": "code",
   "execution_count": 4,
   "id": "afd35f36",
   "metadata": {},
   "outputs": [],
   "source": [
    "methanol = component(name='methanol', Tc=512.5, Pc=80.84, Zc=0.222, Vc=117, GC={'CH3OH':1})\n",
    "ethanol = component(name='ethanol', Tc=514, Pc=61.37, Zc=0.241, Vc=168, GC={'CH3':1, 'CH2':1, 'OH':1})\n",
    "_2propanol = component(name='2-propanol', Tc=508.3, Pc=47.65, Zc=0.25, Vc=222, GC={'CH3':2, 'CH2':1, 'OH':1})\n",
    "acetone = component(name='acetone', Tc=508.1, Pc=47, Zc=0.237, Vc=213, GC={'CH3CO':1, 'CH3':1})\n",
    "mibk = component(name='mibk', Tc=574.6, Pc=32.7, Zc=0.256, Vc=317, GC={'CH3CO':1, 'CH3':2, 'CH2':1, 'CH':1})\n",
    "ethac = component(name='ethyl-acetate', Tc=523.3, Pc=38.8, Zc=0.255, Vc=286, GC={'CH3COO':1, 'CH3':1, 'CH2':1})\n",
    "chloroform = component(name='chloroform', Tc=536.4, Pc=54.72, Zc=0.293, Vc=239, GC={'CHCL3':1})\n",
    "toluene = component(name='toluene', Tc=591.75, Pc=41.08, Zc=0.264, Vc=316, GC={'ACH':5, 'ACCH3':1})\n",
    "water = component(name='water', Tc=647.096, Pc=220.64, Zc=0.229, Vc=55.9472,GC={'H2O':1})\n",
    "ibuprofen = component(name='ibuprofen', Tc=765, Pc=29.8, Zc=0.313, Vc=668,GC={'CH3':3, 'CH':1, 'ACH':4, 'ACCH2':1, 'ACCH':1, 'COOH':1})"
   ]
  },
  {
   "cell_type": "code",
   "execution_count": 5,
   "id": "98cdd826",
   "metadata": {},
   "outputs": [],
   "source": [
    "component_list = [methanol,ethanol,_2propanol,acetone,mibk,ethac,chloroform,toluene,water]"
   ]
  },
  {
   "cell_type": "code",
   "execution_count": 6,
   "id": "77cfc568",
   "metadata": {},
   "outputs": [],
   "source": [
    "binary_mix = itertools.combinations(component_list, 2) #outputs every combination of mixtures give a list"
   ]
  },
  {
   "cell_type": "code",
   "execution_count": 7,
   "id": "ec6aedf0",
   "metadata": {},
   "outputs": [
    {
     "name": "stdout",
     "output_type": "stream",
     "text": [
      "binary combinations 36\n"
     ]
    }
   ],
   "source": [
    "binary_mix= list(binary_mix)\n",
    "binary_mix_no = len(binary_mix) #number of different mixtures\n",
    "print('binary combinations', binary_mix_no)\n",
    "\n",
    "n=0\n",
    "binary_mix_list = [] #list of binary mixtures\n",
    "\n",
    "while n <= (binary_mix_no-1):\n",
    "    mix = mixture(binary_mix[n][0],binary_mix[n][1])\n",
    "    #print('mixture index:',n, 'Component names:', mix.names)\n",
    "    binary_mix_list.append(mix)\n",
    "    n=n+1"
   ]
  },
  {
   "cell_type": "code",
   "execution_count": 8,
   "id": "51cc3b49",
   "metadata": {},
   "outputs": [],
   "source": [
    "num_samples_base2 = 9"
   ]
  },
  {
   "cell_type": "code",
   "execution_count": 9,
   "id": "72ad8785",
   "metadata": {},
   "outputs": [
    {
     "name": "stdout",
     "output_type": "stream",
     "text": [
      "Time taken for Sobol sequence generation:  0.02703261375427246\n"
     ]
    }
   ],
   "source": [
    "st = time.time() #start timer\n",
    "sampler_sob = qmc.Sobol(d=3, scramble=True)\n",
    "sample_sob = sampler_sob.random_base2(num_samples_base2)\n",
    "final_sample_list = []\n",
    "for sample in sample_sob:\n",
    "    x1 = sample[0]/(sample[0] + sample[1] + sample[2])\n",
    "    x2 = sample[1]/(sample[0] + sample[1] + sample[2])\n",
    "    x3 = sample[2]/(sample[0] + sample[1] + sample[2])\n",
    "    Tsob = 300\n",
    "    final_sample_list.append([x1, x2, Tsob])\n",
    "et = time.time()\n",
    "sobol_time = et - st\n",
    "print('Time taken for Sobol sequence generation: ', sobol_time)"
   ]
  },
  {
   "cell_type": "code",
   "execution_count": 10,
   "id": "058266d4",
   "metadata": {},
   "outputs": [
    {
     "name": "stdout",
     "output_type": "stream",
     "text": [
      "Time taken for list generation:  0.00657963752746582\n"
     ]
    }
   ],
   "source": [
    "st = time.time()\n",
    "master_list = []\n",
    "for i in binary_mix:\n",
    "    s1 = i[0].name\n",
    "    s2 = i[1].name\n",
    "    q1 = qs[s1]\n",
    "    q2 = qs[s2]\n",
    "    r1 = rs[s1]\n",
    "    r2 = rs[s2]\n",
    "    for j in final_sample_list:\n",
    "        master_list.append([s1,s2,q1,q2,r1,r2,j[0],j[1],j[2]])\n",
    "et = time.time()\n",
    "list_time = et - st\n",
    "print('Time taken for list generation: ', list_time)"
   ]
  },
  {
   "cell_type": "code",
   "execution_count": 11,
   "id": "10241276",
   "metadata": {},
   "outputs": [
    {
     "name": "stdout",
     "output_type": "stream",
     "text": [
      "Total time for generating data:  0.03361225128173828\n"
     ]
    }
   ],
   "source": [
    "master_list_column_names = ['Solvent 1', 'Solvent 2', 'q1', 'q2', 'r1', 'r2', 'x1', 'x2', 'T']\n",
    "df = pd.DataFrame(master_list, columns=master_list_column_names)\n",
    "df.to_csv('Case1.csv')\n",
    "print('Total time for generating data: ', sobol_time + list_time)"
   ]
  },
  {
   "cell_type": "code",
   "execution_count": null,
   "id": "f1d71e69",
   "metadata": {},
   "outputs": [],
   "source": []
  }
 ],
 "metadata": {
  "kernelspec": {
   "display_name": "Python 3 (ipykernel)",
   "language": "python",
   "name": "python3"
  },
  "language_info": {
   "codemirror_mode": {
    "name": "ipython",
    "version": 3
   },
   "file_extension": ".py",
   "mimetype": "text/x-python",
   "name": "python",
   "nbconvert_exporter": "python",
   "pygments_lexer": "ipython3",
   "version": "3.9.16"
  }
 },
 "nbformat": 4,
 "nbformat_minor": 5
}
